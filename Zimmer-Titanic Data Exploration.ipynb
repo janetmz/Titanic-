{
 "cells": [
  {
   "cell_type": "markdown",
   "id": "aa81c92e",
   "metadata": {},
   "source": [
    "## Titanic Data Exploration ##\n",
    "\n",
    "***\n",
    "\n",
    "Over the past several weeks, you've learned the code about how to explore and manipulate a dataset. Now it's time to practice what you've learned on a real-world dataset. \n",
    "\n",
    "***\n",
    "\n",
    "### Titanic Dataset\n",
    "\n",
    "The titanic dataset holds information about the passengers on the titanic. This includes passenger name, characteristics, and if they survived the accident. The dataset has the following columns:\n",
    "\n",
    "    * pclass = passenger class; 1 = first class, 2 = second class, 3 = third class\n",
    "    * survived = passenger survival; 1 = survived, 0 = did not survive\n",
    "    * name = passenger name\n",
    "    * sex = sex of passenger\n",
    "    * age = age of passenger\n",
    "    * sibsp = # of siblings / spouses aboard the Titanic\n",
    "    * parch = # of parents / children aboard the Titanic\n",
    "    * ticket = ticket number\n",
    "    * fare = fare paid by passenger\n",
    "    * cabin = passenger cabin\n",
    "    * embarked = port of embarkation; C = Cherbourg, Q = Queenstown, S = Southampton\n",
    "    * boat = lifeboat assignment \n",
    "    * body = recovered body number\n",
    "    * home dest = anticipated home destination \n",
    "    \n",
    "If you need some additional motivation before starting, please visit: https://www.youtube.com/watch?v=3gK_2XdjOdY\n",
    "\n",
    "### How to work through the dataset:\n",
    "\n",
    "Follow the prompts below to explore, manipulate, and visualize aspects of the dataset. Working with data takes time, so take your time as you start with a messy dataset and turn it into something that shows meaningful visualizations. \n",
    "\n",
    "***\n"
   ]
  },
  {
   "cell_type": "markdown",
   "id": "37d86c21",
   "metadata": {},
   "source": [
    "### Import Libraries and Dataset\n",
    "\n",
    "* Review the entire notebook to determine what you will be expected to do - then, import the necessary libraries\n",
    "* Import the titanic.xlsx dataset"
   ]
  },
  {
   "cell_type": "code",
   "execution_count": 1,
   "id": "3eeffe62",
   "metadata": {},
   "outputs": [],
   "source": [
    "import pandas as pd\n",
    "import numpy as np\n",
    "from matplotlib import pyplot as plt\n",
    "%matplotlib inline\n",
    "import seaborn as sns\n",
    "import scipy.stats as stats\n",
    "import statsmodels.formula.api as sm"
   ]
  },
  {
   "cell_type": "code",
   "execution_count": 2,
   "id": "21e34ffd",
   "metadata": {},
   "outputs": [],
   "source": [
    "ship = pd.read_excel('titanic.xlsx')"
   ]
  },
  {
   "cell_type": "markdown",
   "id": "76794a67",
   "metadata": {},
   "source": [
    "### Determine the Characteristics of the Dataset\n",
    "\n",
    "   * How many columns are in this dataset?\n",
    "   * How many rows are in this dataset?\n",
    "   * What types of data are in each column? Does this make sense with that you know about that column?\n",
    "   * Which variables are numeric? Which variables are categorical? What other variables are left outside of these two groups?\n",
    "   * Which variable could be considered a 'dependent' variable?"
   ]
  },
  {
   "cell_type": "code",
   "execution_count": 3,
   "id": "232d2281",
   "metadata": {},
   "outputs": [
    {
     "data": {
      "text/plain": [
       "(1309, 14)"
      ]
     },
     "execution_count": 3,
     "metadata": {},
     "output_type": "execute_result"
    }
   ],
   "source": [
    "ship.shape"
   ]
  },
  {
   "cell_type": "code",
   "execution_count": null,
   "id": "0f61eacc",
   "metadata": {},
   "outputs": [],
   "source": [
    "#There are 14 columns, 1309 rows to start with"
   ]
  },
  {
   "cell_type": "code",
   "execution_count": 4,
   "id": "c3a0f3ca",
   "metadata": {},
   "outputs": [
    {
     "name": "stdout",
     "output_type": "stream",
     "text": [
      "<class 'pandas.core.frame.DataFrame'>\n",
      "RangeIndex: 1309 entries, 0 to 1308\n",
      "Data columns (total 14 columns):\n",
      " #   Column     Non-Null Count  Dtype  \n",
      "---  ------     --------------  -----  \n",
      " 0   pclass     1309 non-null   int64  \n",
      " 1   survived   1309 non-null   int64  \n",
      " 2   name       1309 non-null   object \n",
      " 3   sex        1309 non-null   object \n",
      " 4   age        1046 non-null   float64\n",
      " 5   sibsp      1309 non-null   int64  \n",
      " 6   parch      1309 non-null   int64  \n",
      " 7   ticket     1309 non-null   object \n",
      " 8   fare       1308 non-null   float64\n",
      " 9   cabin      295 non-null    object \n",
      " 10  embarked   1307 non-null   object \n",
      " 11  boat       486 non-null    object \n",
      " 12  body       121 non-null    float64\n",
      " 13  home.dest  745 non-null    object \n",
      "dtypes: float64(3), int64(4), object(7)\n",
      "memory usage: 143.3+ KB\n"
     ]
    }
   ],
   "source": [
    "ship.info()"
   ]
  },
  {
   "cell_type": "code",
   "execution_count": 5,
   "id": "b0d282b5",
   "metadata": {},
   "outputs": [],
   "source": [
    "# categorical variables: pclass, survived, sex, ticket, cabin, boat, body, embarked,home dest\n",
    "# numeric variables: age, sibsp, parch,fare\n",
    "# outside: name\n",
    "# dependent variable: survived?"
   ]
  },
  {
   "cell_type": "markdown",
   "id": "23797b32",
   "metadata": {},
   "source": [
    "### Identify the Missing Data in the Dataset\n",
    "\n",
    "   * Is there any missing data?\n",
    "   * Which columns have any missing data?\n",
    "   * Which column has the most missing information? Which column has the least?"
   ]
  },
  {
   "cell_type": "code",
   "execution_count": 6,
   "id": "26428919",
   "metadata": {},
   "outputs": [
    {
     "data": {
      "text/plain": [
       "pclass          0\n",
       "survived        0\n",
       "name            0\n",
       "sex             0\n",
       "age           263\n",
       "sibsp           0\n",
       "parch           0\n",
       "ticket          0\n",
       "fare            1\n",
       "cabin        1014\n",
       "embarked        2\n",
       "boat          823\n",
       "body         1188\n",
       "home.dest     564\n",
       "dtype: int64"
      ]
     },
     "execution_count": 6,
     "metadata": {},
     "output_type": "execute_result"
    }
   ],
   "source": [
    "ship.isnull().sum()"
   ]
  },
  {
   "cell_type": "code",
   "execution_count": null,
   "id": "52dfa78c",
   "metadata": {},
   "outputs": [],
   "source": [
    "#missing data in age, cabin, embarked, boat, body, home deatination. \n",
    "# cabin and body have the most data missing\n",
    "# fare and embarked has the least missing data (of those with missing data)"
   ]
  },
  {
   "cell_type": "markdown",
   "id": "5080d6ce",
   "metadata": {},
   "source": [
    "### Handling the Missing Data in the Dataset\n",
    "\n",
    "   * Remove the columns with excessive missing data (any column missing greater than 500 rows)\n",
    "   * When there is very little missing data, we can make replacements. Replace the missing data for the \"embarked\" column with the most common embarkation point. \n",
    "   * Replace the missing data in \"fare\" with the average fare of the entire sample. \n",
    "   * Remove the rows in the dataset that has missing \"age\" data. \n",
    "   * Recheck is there is any data missing in the dataset. "
   ]
  },
  {
   "cell_type": "code",
   "execution_count": 7,
   "id": "fbeaf9bb",
   "metadata": {},
   "outputs": [],
   "source": [
    "ship_original = ship.copy()"
   ]
  },
  {
   "cell_type": "code",
   "execution_count": 8,
   "id": "6aaffc85",
   "metadata": {},
   "outputs": [],
   "source": [
    "# remove cabin, boat, body, home.dest columns \n",
    "ship.drop(columns = [\"cabin\",\"boat\",\"body\",\"home.dest\"],inplace=True)"
   ]
  },
  {
   "cell_type": "code",
   "execution_count": 9,
   "id": "f4a7b7e1",
   "metadata": {},
   "outputs": [
    {
     "data": {
      "text/plain": [
       "S    914\n",
       "C    270\n",
       "Q    123\n",
       "Name: embarked, dtype: int64"
      ]
     },
     "execution_count": 9,
     "metadata": {},
     "output_type": "execute_result"
    }
   ],
   "source": [
    "#most common point of embarkation point\n",
    "ship[\"embarked\"].value_counts()"
   ]
  },
  {
   "cell_type": "code",
   "execution_count": 11,
   "id": "dbb69f9d",
   "metadata": {},
   "outputs": [],
   "source": [
    "#fill missing embarkation point with S\n",
    "ship[\"embarked\"].fillna(\"S\", inplace = True)"
   ]
  },
  {
   "cell_type": "code",
   "execution_count": 12,
   "id": "b77a970c",
   "metadata": {},
   "outputs": [],
   "source": [
    "# file missing fare values with average fare\n",
    "ship[\"fare\"].fillna(ship[\"fare\"].mean(),inplace = True)"
   ]
  },
  {
   "cell_type": "code",
   "execution_count": 13,
   "id": "4f95e194",
   "metadata": {},
   "outputs": [],
   "source": [
    "#remove rows with missing age data\n",
    "ship.dropna(subset=[\"age\"],inplace = True)\n",
    "ship.reset_index(drop=True,inplace= True)"
   ]
  },
  {
   "cell_type": "code",
   "execution_count": 14,
   "id": "254f0548",
   "metadata": {},
   "outputs": [
    {
     "data": {
      "text/html": [
       "<div>\n",
       "<style scoped>\n",
       "    .dataframe tbody tr th:only-of-type {\n",
       "        vertical-align: middle;\n",
       "    }\n",
       "\n",
       "    .dataframe tbody tr th {\n",
       "        vertical-align: top;\n",
       "    }\n",
       "\n",
       "    .dataframe thead th {\n",
       "        text-align: right;\n",
       "    }\n",
       "</style>\n",
       "<table border=\"1\" class=\"dataframe\">\n",
       "  <thead>\n",
       "    <tr style=\"text-align: right;\">\n",
       "      <th></th>\n",
       "      <th>pclass</th>\n",
       "      <th>survived</th>\n",
       "      <th>name</th>\n",
       "      <th>sex</th>\n",
       "      <th>age</th>\n",
       "      <th>sibsp</th>\n",
       "      <th>parch</th>\n",
       "      <th>ticket</th>\n",
       "      <th>fare</th>\n",
       "      <th>embarked</th>\n",
       "    </tr>\n",
       "  </thead>\n",
       "  <tbody>\n",
       "  </tbody>\n",
       "</table>\n",
       "</div>"
      ],
      "text/plain": [
       "Empty DataFrame\n",
       "Columns: [pclass, survived, name, sex, age, sibsp, parch, ticket, fare, embarked]\n",
       "Index: []"
      ]
     },
     "execution_count": 14,
     "metadata": {},
     "output_type": "execute_result"
    }
   ],
   "source": [
    "ship.loc[ship.isnull().any (axis=1)]"
   ]
  },
  {
   "cell_type": "code",
   "execution_count": null,
   "id": "a8697a54",
   "metadata": {},
   "outputs": [],
   "source": [
    "#No missing data"
   ]
  },
  {
   "cell_type": "markdown",
   "id": "6671e4b6",
   "metadata": {},
   "source": [
    "### Creating Columns and Replacing Labels\n",
    "\n",
    "   * Create descriptive labels for the categorical columns: pclass, survived, and embarked. Instead of the coding that shows in the dataset, create labels to describe what each category represents (i.e. in the embarked column S = Southhampton)\n",
    "   * Create a new column called \"Titanic Passenger\" and make all values 1\n",
    "   * Create a new column called \"Family Size\" - this column should equal the total number of family members each passenger was traveling with.\n",
    "   * Create a column called \"Travel Alone\" - this column should be 1 if the passenger was traveling alone, and 0 if the passenger was traveling with family. \n",
    "   * Create a column called \"Has Caregiver\" - this column should have a value of 1 if a passenger is less than 13-years old AND the passenger is traveling with at least one family member, otherwise the value should be 0. \n",
    "   * Create a column called \"Crew\" - this column should be 1 if the passenger paid 0 dollars for their ticket, and 0 otherwise. \n",
    "   * Create a column called \"Age Group\" to group passengers by their age (create five categories: infant, child, teen, adult, senior). You can use bins to complete this (or any other method you like). You define the cutoff points for each group you create. \n",
    "   \n",
    "After create new columns, replace the basic coding \"0/1\" with meaningful labels. "
   ]
  },
  {
   "cell_type": "code",
   "execution_count": 15,
   "id": "8a66af47",
   "metadata": {},
   "outputs": [],
   "source": [
    "#Change labels for categorical columns: pclass, survived, embarked\n",
    "ship.loc[ship[\"pclass\"]== 1,\"pclass\"]= \"First Class\"\n",
    "ship.loc[ship[\"pclass\"]== 2,\"pclass\"]= \"Second Class\"\n",
    "ship.loc[ship[\"pclass\"]== 3,\"pclass\"]= \"Third Class\""
   ]
  },
  {
   "cell_type": "code",
   "execution_count": 20,
   "id": "b438ef35",
   "metadata": {},
   "outputs": [],
   "source": [
    "#Create a new column called \"Titanic Passenger\" and make all values 1\n",
    "ship[\"Titantic Passenger\"]= 1"
   ]
  },
  {
   "cell_type": "code",
   "execution_count": 21,
   "id": "0d3893af",
   "metadata": {},
   "outputs": [
    {
     "data": {
      "text/html": [
       "<div>\n",
       "<style scoped>\n",
       "    .dataframe tbody tr th:only-of-type {\n",
       "        vertical-align: middle;\n",
       "    }\n",
       "\n",
       "    .dataframe tbody tr th {\n",
       "        vertical-align: top;\n",
       "    }\n",
       "\n",
       "    .dataframe thead th {\n",
       "        text-align: right;\n",
       "    }\n",
       "</style>\n",
       "<table border=\"1\" class=\"dataframe\">\n",
       "  <thead>\n",
       "    <tr style=\"text-align: right;\">\n",
       "      <th></th>\n",
       "      <th>pclass</th>\n",
       "      <th>survived</th>\n",
       "      <th>name</th>\n",
       "      <th>sex</th>\n",
       "      <th>age</th>\n",
       "      <th>sibsp</th>\n",
       "      <th>parch</th>\n",
       "      <th>ticket</th>\n",
       "      <th>fare</th>\n",
       "      <th>embarked</th>\n",
       "      <th>Titantic Passenger</th>\n",
       "      <th>Family Size</th>\n",
       "    </tr>\n",
       "  </thead>\n",
       "  <tbody>\n",
       "    <tr>\n",
       "      <th>0</th>\n",
       "      <td>First Class</td>\n",
       "      <td>1</td>\n",
       "      <td>Allen, Miss. Elisabeth Walton</td>\n",
       "      <td>female</td>\n",
       "      <td>29.0000</td>\n",
       "      <td>0</td>\n",
       "      <td>0</td>\n",
       "      <td>24160</td>\n",
       "      <td>211.3375</td>\n",
       "      <td>S</td>\n",
       "      <td>1</td>\n",
       "      <td>0</td>\n",
       "    </tr>\n",
       "    <tr>\n",
       "      <th>1</th>\n",
       "      <td>First Class</td>\n",
       "      <td>1</td>\n",
       "      <td>Allison, Master. Hudson Trevor</td>\n",
       "      <td>male</td>\n",
       "      <td>0.9167</td>\n",
       "      <td>1</td>\n",
       "      <td>2</td>\n",
       "      <td>113781</td>\n",
       "      <td>151.5500</td>\n",
       "      <td>S</td>\n",
       "      <td>1</td>\n",
       "      <td>3</td>\n",
       "    </tr>\n",
       "    <tr>\n",
       "      <th>2</th>\n",
       "      <td>First Class</td>\n",
       "      <td>0</td>\n",
       "      <td>Allison, Miss. Helen Loraine</td>\n",
       "      <td>female</td>\n",
       "      <td>2.0000</td>\n",
       "      <td>1</td>\n",
       "      <td>2</td>\n",
       "      <td>113781</td>\n",
       "      <td>151.5500</td>\n",
       "      <td>S</td>\n",
       "      <td>1</td>\n",
       "      <td>3</td>\n",
       "    </tr>\n",
       "  </tbody>\n",
       "</table>\n",
       "</div>"
      ],
      "text/plain": [
       "        pclass  survived                            name     sex      age  \\\n",
       "0  First Class         1   Allen, Miss. Elisabeth Walton  female  29.0000   \n",
       "1  First Class         1  Allison, Master. Hudson Trevor    male   0.9167   \n",
       "2  First Class         0    Allison, Miss. Helen Loraine  female   2.0000   \n",
       "\n",
       "   sibsp  parch  ticket      fare embarked  Titantic Passenger  Family Size  \n",
       "0      0      0   24160  211.3375        S                   1            0  \n",
       "1      1      2  113781  151.5500        S                   1            3  \n",
       "2      1      2  113781  151.5500        S                   1            3  "
      ]
     },
     "execution_count": 21,
     "metadata": {},
     "output_type": "execute_result"
    }
   ],
   "source": [
    "#Create a new column called \"Family Size\" - this column should equal the total number of family members \n",
    "#each passenger was traveling with.\n",
    "ship[\"Family Size\"]= ship[\"sibsp\"]+ ship[\"parch\"]\n",
    "ship.head(3)"
   ]
  },
  {
   "cell_type": "code",
   "execution_count": 22,
   "id": "bebbbf70",
   "metadata": {},
   "outputs": [
    {
     "data": {
      "text/html": [
       "<div>\n",
       "<style scoped>\n",
       "    .dataframe tbody tr th:only-of-type {\n",
       "        vertical-align: middle;\n",
       "    }\n",
       "\n",
       "    .dataframe tbody tr th {\n",
       "        vertical-align: top;\n",
       "    }\n",
       "\n",
       "    .dataframe thead th {\n",
       "        text-align: right;\n",
       "    }\n",
       "</style>\n",
       "<table border=\"1\" class=\"dataframe\">\n",
       "  <thead>\n",
       "    <tr style=\"text-align: right;\">\n",
       "      <th></th>\n",
       "      <th>pclass</th>\n",
       "      <th>survived</th>\n",
       "      <th>name</th>\n",
       "      <th>sex</th>\n",
       "      <th>age</th>\n",
       "      <th>sibsp</th>\n",
       "      <th>parch</th>\n",
       "      <th>ticket</th>\n",
       "      <th>fare</th>\n",
       "      <th>embarked</th>\n",
       "      <th>Titantic Passenger</th>\n",
       "      <th>Family Size</th>\n",
       "      <th>Travel Alone</th>\n",
       "    </tr>\n",
       "  </thead>\n",
       "  <tbody>\n",
       "    <tr>\n",
       "      <th>0</th>\n",
       "      <td>First Class</td>\n",
       "      <td>1</td>\n",
       "      <td>Allen, Miss. Elisabeth Walton</td>\n",
       "      <td>female</td>\n",
       "      <td>29.0000</td>\n",
       "      <td>0</td>\n",
       "      <td>0</td>\n",
       "      <td>24160</td>\n",
       "      <td>211.3375</td>\n",
       "      <td>S</td>\n",
       "      <td>1</td>\n",
       "      <td>0</td>\n",
       "      <td>1</td>\n",
       "    </tr>\n",
       "    <tr>\n",
       "      <th>1</th>\n",
       "      <td>First Class</td>\n",
       "      <td>1</td>\n",
       "      <td>Allison, Master. Hudson Trevor</td>\n",
       "      <td>male</td>\n",
       "      <td>0.9167</td>\n",
       "      <td>1</td>\n",
       "      <td>2</td>\n",
       "      <td>113781</td>\n",
       "      <td>151.5500</td>\n",
       "      <td>S</td>\n",
       "      <td>1</td>\n",
       "      <td>3</td>\n",
       "      <td>0</td>\n",
       "    </tr>\n",
       "  </tbody>\n",
       "</table>\n",
       "</div>"
      ],
      "text/plain": [
       "        pclass  survived                            name     sex      age  \\\n",
       "0  First Class         1   Allen, Miss. Elisabeth Walton  female  29.0000   \n",
       "1  First Class         1  Allison, Master. Hudson Trevor    male   0.9167   \n",
       "\n",
       "   sibsp  parch  ticket      fare embarked  Titantic Passenger  Family Size  \\\n",
       "0      0      0   24160  211.3375        S                   1            0   \n",
       "1      1      2  113781  151.5500        S                   1            3   \n",
       "\n",
       "   Travel Alone  \n",
       "0             1  \n",
       "1             0  "
      ]
     },
     "execution_count": 22,
     "metadata": {},
     "output_type": "execute_result"
    }
   ],
   "source": [
    "#Create a column called \"Travel Alone\" - this column should be 1 if the passenger was traveling alone, \n",
    "#and 0 if the passenger was traveling with family.\n",
    "ship[\"Travel Alone\"]= np.where(ship[\"Family Size\"]==0,1,0)\n",
    "ship.head(2)"
   ]
  },
  {
   "cell_type": "code",
   "execution_count": 23,
   "id": "7ad20bd5",
   "metadata": {},
   "outputs": [
    {
     "data": {
      "text/html": [
       "<div>\n",
       "<style scoped>\n",
       "    .dataframe tbody tr th:only-of-type {\n",
       "        vertical-align: middle;\n",
       "    }\n",
       "\n",
       "    .dataframe tbody tr th {\n",
       "        vertical-align: top;\n",
       "    }\n",
       "\n",
       "    .dataframe thead th {\n",
       "        text-align: right;\n",
       "    }\n",
       "</style>\n",
       "<table border=\"1\" class=\"dataframe\">\n",
       "  <thead>\n",
       "    <tr style=\"text-align: right;\">\n",
       "      <th></th>\n",
       "      <th>pclass</th>\n",
       "      <th>survived</th>\n",
       "      <th>name</th>\n",
       "      <th>sex</th>\n",
       "      <th>age</th>\n",
       "      <th>sibsp</th>\n",
       "      <th>parch</th>\n",
       "      <th>ticket</th>\n",
       "      <th>fare</th>\n",
       "      <th>embarked</th>\n",
       "      <th>Titantic Passenger</th>\n",
       "      <th>Family Size</th>\n",
       "      <th>Travel Alone</th>\n",
       "      <th>Has Caregiver</th>\n",
       "    </tr>\n",
       "  </thead>\n",
       "  <tbody>\n",
       "    <tr>\n",
       "      <th>0</th>\n",
       "      <td>First Class</td>\n",
       "      <td>1</td>\n",
       "      <td>Allen, Miss. Elisabeth Walton</td>\n",
       "      <td>female</td>\n",
       "      <td>29.0000</td>\n",
       "      <td>0</td>\n",
       "      <td>0</td>\n",
       "      <td>24160</td>\n",
       "      <td>211.3375</td>\n",
       "      <td>S</td>\n",
       "      <td>1</td>\n",
       "      <td>0</td>\n",
       "      <td>1</td>\n",
       "      <td>0</td>\n",
       "    </tr>\n",
       "    <tr>\n",
       "      <th>1</th>\n",
       "      <td>First Class</td>\n",
       "      <td>1</td>\n",
       "      <td>Allison, Master. Hudson Trevor</td>\n",
       "      <td>male</td>\n",
       "      <td>0.9167</td>\n",
       "      <td>1</td>\n",
       "      <td>2</td>\n",
       "      <td>113781</td>\n",
       "      <td>151.5500</td>\n",
       "      <td>S</td>\n",
       "      <td>1</td>\n",
       "      <td>3</td>\n",
       "      <td>0</td>\n",
       "      <td>1</td>\n",
       "    </tr>\n",
       "    <tr>\n",
       "      <th>2</th>\n",
       "      <td>First Class</td>\n",
       "      <td>0</td>\n",
       "      <td>Allison, Miss. Helen Loraine</td>\n",
       "      <td>female</td>\n",
       "      <td>2.0000</td>\n",
       "      <td>1</td>\n",
       "      <td>2</td>\n",
       "      <td>113781</td>\n",
       "      <td>151.5500</td>\n",
       "      <td>S</td>\n",
       "      <td>1</td>\n",
       "      <td>3</td>\n",
       "      <td>0</td>\n",
       "      <td>1</td>\n",
       "    </tr>\n",
       "    <tr>\n",
       "      <th>3</th>\n",
       "      <td>First Class</td>\n",
       "      <td>0</td>\n",
       "      <td>Allison, Mr. Hudson Joshua Creighton</td>\n",
       "      <td>male</td>\n",
       "      <td>30.0000</td>\n",
       "      <td>1</td>\n",
       "      <td>2</td>\n",
       "      <td>113781</td>\n",
       "      <td>151.5500</td>\n",
       "      <td>S</td>\n",
       "      <td>1</td>\n",
       "      <td>3</td>\n",
       "      <td>0</td>\n",
       "      <td>0</td>\n",
       "    </tr>\n",
       "  </tbody>\n",
       "</table>\n",
       "</div>"
      ],
      "text/plain": [
       "        pclass  survived                                  name     sex  \\\n",
       "0  First Class         1         Allen, Miss. Elisabeth Walton  female   \n",
       "1  First Class         1        Allison, Master. Hudson Trevor    male   \n",
       "2  First Class         0          Allison, Miss. Helen Loraine  female   \n",
       "3  First Class         0  Allison, Mr. Hudson Joshua Creighton    male   \n",
       "\n",
       "       age  sibsp  parch  ticket      fare embarked  Titantic Passenger  \\\n",
       "0  29.0000      0      0   24160  211.3375        S                   1   \n",
       "1   0.9167      1      2  113781  151.5500        S                   1   \n",
       "2   2.0000      1      2  113781  151.5500        S                   1   \n",
       "3  30.0000      1      2  113781  151.5500        S                   1   \n",
       "\n",
       "   Family Size  Travel Alone  Has Caregiver  \n",
       "0            0             1              0  \n",
       "1            3             0              1  \n",
       "2            3             0              1  \n",
       "3            3             0              0  "
      ]
     },
     "execution_count": 23,
     "metadata": {},
     "output_type": "execute_result"
    }
   ],
   "source": [
    "#Create a column called \"Has Caregiver\" - this column should have a value of 1 if a \n",
    "#passenger is less than 13-years old AND the passenger is traveling with at \n",
    "#least one family member, otherwise the value should be 0.\n",
    "ship[\"Has Caregiver\"]=np.where(((ship[\"age\"]<13)& (ship[\"Family Size\"])>0),1,0)\n",
    "ship.head(4)"
   ]
  },
  {
   "cell_type": "code",
   "execution_count": 24,
   "id": "767bc43c",
   "metadata": {},
   "outputs": [],
   "source": [
    "#Create a column called \"Crew\" - this column should be 1 if the passenger paid 0 dollars \n",
    "#for their ticket, and 0 otherwise.\n",
    "ship[\"Crew\"]=np.where (ship[\"fare\"]==0,1,0)"
   ]
  },
  {
   "cell_type": "code",
   "execution_count": 25,
   "id": "db346e40",
   "metadata": {},
   "outputs": [
    {
     "data": {
      "text/html": [
       "<div>\n",
       "<style scoped>\n",
       "    .dataframe tbody tr th:only-of-type {\n",
       "        vertical-align: middle;\n",
       "    }\n",
       "\n",
       "    .dataframe tbody tr th {\n",
       "        vertical-align: top;\n",
       "    }\n",
       "\n",
       "    .dataframe thead th {\n",
       "        text-align: right;\n",
       "    }\n",
       "</style>\n",
       "<table border=\"1\" class=\"dataframe\">\n",
       "  <thead>\n",
       "    <tr style=\"text-align: right;\">\n",
       "      <th></th>\n",
       "      <th>pclass</th>\n",
       "      <th>survived</th>\n",
       "      <th>name</th>\n",
       "      <th>sex</th>\n",
       "      <th>age</th>\n",
       "      <th>sibsp</th>\n",
       "      <th>parch</th>\n",
       "      <th>ticket</th>\n",
       "      <th>fare</th>\n",
       "      <th>embarked</th>\n",
       "      <th>Titantic Passenger</th>\n",
       "      <th>Family Size</th>\n",
       "      <th>Travel Alone</th>\n",
       "      <th>Has Caregiver</th>\n",
       "      <th>Crew</th>\n",
       "    </tr>\n",
       "  </thead>\n",
       "  <tbody>\n",
       "    <tr>\n",
       "      <th>7</th>\n",
       "      <td>First Class</td>\n",
       "      <td>0</td>\n",
       "      <td>Andrews, Mr. Thomas Jr</td>\n",
       "      <td>male</td>\n",
       "      <td>39.0</td>\n",
       "      <td>0</td>\n",
       "      <td>0</td>\n",
       "      <td>112050</td>\n",
       "      <td>0.0</td>\n",
       "      <td>S</td>\n",
       "      <td>1</td>\n",
       "      <td>0</td>\n",
       "      <td>1</td>\n",
       "      <td>0</td>\n",
       "      <td>1</td>\n",
       "    </tr>\n",
       "    <tr>\n",
       "      <th>133</th>\n",
       "      <td>First Class</td>\n",
       "      <td>0</td>\n",
       "      <td>Harrison, Mr. William</td>\n",
       "      <td>male</td>\n",
       "      <td>40.0</td>\n",
       "      <td>0</td>\n",
       "      <td>0</td>\n",
       "      <td>112059</td>\n",
       "      <td>0.0</td>\n",
       "      <td>S</td>\n",
       "      <td>1</td>\n",
       "      <td>0</td>\n",
       "      <td>1</td>\n",
       "      <td>0</td>\n",
       "      <td>1</td>\n",
       "    </tr>\n",
       "    <tr>\n",
       "      <th>150</th>\n",
       "      <td>First Class</td>\n",
       "      <td>1</td>\n",
       "      <td>Ismay, Mr. Joseph Bruce</td>\n",
       "      <td>male</td>\n",
       "      <td>49.0</td>\n",
       "      <td>0</td>\n",
       "      <td>0</td>\n",
       "      <td>112058</td>\n",
       "      <td>0.0</td>\n",
       "      <td>S</td>\n",
       "      <td>1</td>\n",
       "      <td>0</td>\n",
       "      <td>1</td>\n",
       "      <td>0</td>\n",
       "      <td>1</td>\n",
       "    </tr>\n",
       "    <tr>\n",
       "      <th>207</th>\n",
       "      <td>First Class</td>\n",
       "      <td>0</td>\n",
       "      <td>Reuchlin, Jonkheer. John George</td>\n",
       "      <td>male</td>\n",
       "      <td>38.0</td>\n",
       "      <td>0</td>\n",
       "      <td>0</td>\n",
       "      <td>19972</td>\n",
       "      <td>0.0</td>\n",
       "      <td>S</td>\n",
       "      <td>1</td>\n",
       "      <td>0</td>\n",
       "      <td>1</td>\n",
       "      <td>0</td>\n",
       "      <td>1</td>\n",
       "    </tr>\n",
       "    <tr>\n",
       "      <th>800</th>\n",
       "      <td>Third Class</td>\n",
       "      <td>0</td>\n",
       "      <td>Johnson, Mr. Alfred</td>\n",
       "      <td>male</td>\n",
       "      <td>49.0</td>\n",
       "      <td>0</td>\n",
       "      <td>0</td>\n",
       "      <td>LINE</td>\n",
       "      <td>0.0</td>\n",
       "      <td>S</td>\n",
       "      <td>1</td>\n",
       "      <td>0</td>\n",
       "      <td>1</td>\n",
       "      <td>0</td>\n",
       "      <td>1</td>\n",
       "    </tr>\n",
       "    <tr>\n",
       "      <th>802</th>\n",
       "      <td>Third Class</td>\n",
       "      <td>0</td>\n",
       "      <td>Johnson, Mr. William Cahoone Jr</td>\n",
       "      <td>male</td>\n",
       "      <td>19.0</td>\n",
       "      <td>0</td>\n",
       "      <td>0</td>\n",
       "      <td>LINE</td>\n",
       "      <td>0.0</td>\n",
       "      <td>S</td>\n",
       "      <td>1</td>\n",
       "      <td>0</td>\n",
       "      <td>1</td>\n",
       "      <td>0</td>\n",
       "      <td>1</td>\n",
       "    </tr>\n",
       "    <tr>\n",
       "      <th>839</th>\n",
       "      <td>Third Class</td>\n",
       "      <td>0</td>\n",
       "      <td>Leonard, Mr. Lionel</td>\n",
       "      <td>male</td>\n",
       "      <td>36.0</td>\n",
       "      <td>0</td>\n",
       "      <td>0</td>\n",
       "      <td>LINE</td>\n",
       "      <td>0.0</td>\n",
       "      <td>S</td>\n",
       "      <td>1</td>\n",
       "      <td>0</td>\n",
       "      <td>1</td>\n",
       "      <td>0</td>\n",
       "      <td>1</td>\n",
       "    </tr>\n",
       "    <tr>\n",
       "      <th>1004</th>\n",
       "      <td>Third Class</td>\n",
       "      <td>1</td>\n",
       "      <td>Tornquist, Mr. William Henry</td>\n",
       "      <td>male</td>\n",
       "      <td>25.0</td>\n",
       "      <td>0</td>\n",
       "      <td>0</td>\n",
       "      <td>LINE</td>\n",
       "      <td>0.0</td>\n",
       "      <td>S</td>\n",
       "      <td>1</td>\n",
       "      <td>0</td>\n",
       "      <td>1</td>\n",
       "      <td>0</td>\n",
       "      <td>1</td>\n",
       "    </tr>\n",
       "  </tbody>\n",
       "</table>\n",
       "</div>"
      ],
      "text/plain": [
       "           pclass  survived                             name   sex   age  \\\n",
       "7     First Class         0           Andrews, Mr. Thomas Jr  male  39.0   \n",
       "133   First Class         0            Harrison, Mr. William  male  40.0   \n",
       "150   First Class         1          Ismay, Mr. Joseph Bruce  male  49.0   \n",
       "207   First Class         0  Reuchlin, Jonkheer. John George  male  38.0   \n",
       "800   Third Class         0              Johnson, Mr. Alfred  male  49.0   \n",
       "802   Third Class         0  Johnson, Mr. William Cahoone Jr  male  19.0   \n",
       "839   Third Class         0              Leonard, Mr. Lionel  male  36.0   \n",
       "1004  Third Class         1     Tornquist, Mr. William Henry  male  25.0   \n",
       "\n",
       "      sibsp  parch  ticket  fare embarked  Titantic Passenger  Family Size  \\\n",
       "7         0      0  112050   0.0        S                   1            0   \n",
       "133       0      0  112059   0.0        S                   1            0   \n",
       "150       0      0  112058   0.0        S                   1            0   \n",
       "207       0      0   19972   0.0        S                   1            0   \n",
       "800       0      0    LINE   0.0        S                   1            0   \n",
       "802       0      0    LINE   0.0        S                   1            0   \n",
       "839       0      0    LINE   0.0        S                   1            0   \n",
       "1004      0      0    LINE   0.0        S                   1            0   \n",
       "\n",
       "      Travel Alone  Has Caregiver  Crew  \n",
       "7                1              0     1  \n",
       "133              1              0     1  \n",
       "150              1              0     1  \n",
       "207              1              0     1  \n",
       "800              1              0     1  \n",
       "802              1              0     1  \n",
       "839              1              0     1  \n",
       "1004             1              0     1  "
      ]
     },
     "execution_count": 25,
     "metadata": {},
     "output_type": "execute_result"
    }
   ],
   "source": [
    "ship.loc[ship[\"fare\"]==0]"
   ]
  },
  {
   "cell_type": "code",
   "execution_count": 26,
   "id": "b97f6313",
   "metadata": {},
   "outputs": [],
   "source": [
    "#Create a column called \"Age Group\" to group passengers by their age (create five categories: infant, child, teen, adult, senior). \n",
    "#You can use bins to complete this (or any other method you like). \n",
    "#You define the cutoff points for each group you create.\n",
    "#infant: 0-1\n",
    "#child: 2-12\n",
    "#teen: 13-21\n",
    "#adult: 22-65\n",
    "#senior: 66+\n",
    "conditions = [(ship[\"age\"]<=1),\n",
    "              (ship[\"age\"]<=12),\n",
    "              (ship[\"age\"]<= 21),\n",
    "              (ship[\"age\"]<=65)]\n",
    "outcomes = [\"Infant\", \"Child\",\"Teen\",\"Adult\"]\n",
    "ship[\"Age Group\"]= np.select(conditions,outcomes,default = \"Senior\")"
   ]
  },
  {
   "cell_type": "code",
   "execution_count": 27,
   "id": "00f2e749",
   "metadata": {},
   "outputs": [
    {
     "data": {
      "text/html": [
       "<div>\n",
       "<style scoped>\n",
       "    .dataframe tbody tr th:only-of-type {\n",
       "        vertical-align: middle;\n",
       "    }\n",
       "\n",
       "    .dataframe tbody tr th {\n",
       "        vertical-align: top;\n",
       "    }\n",
       "\n",
       "    .dataframe thead th {\n",
       "        text-align: right;\n",
       "    }\n",
       "</style>\n",
       "<table border=\"1\" class=\"dataframe\">\n",
       "  <thead>\n",
       "    <tr style=\"text-align: right;\">\n",
       "      <th></th>\n",
       "      <th>pclass</th>\n",
       "      <th>survived</th>\n",
       "      <th>name</th>\n",
       "      <th>sex</th>\n",
       "      <th>age</th>\n",
       "      <th>sibsp</th>\n",
       "      <th>parch</th>\n",
       "      <th>ticket</th>\n",
       "      <th>fare</th>\n",
       "      <th>embarked</th>\n",
       "      <th>Titantic Passenger</th>\n",
       "      <th>Family Size</th>\n",
       "      <th>Travel Alone</th>\n",
       "      <th>Has Caregiver</th>\n",
       "      <th>Crew</th>\n",
       "      <th>Age Group</th>\n",
       "    </tr>\n",
       "  </thead>\n",
       "  <tbody>\n",
       "    <tr>\n",
       "      <th>0</th>\n",
       "      <td>First Class</td>\n",
       "      <td>1</td>\n",
       "      <td>Allen, Miss. Elisabeth Walton</td>\n",
       "      <td>female</td>\n",
       "      <td>29.0000</td>\n",
       "      <td>0</td>\n",
       "      <td>0</td>\n",
       "      <td>24160</td>\n",
       "      <td>211.3375</td>\n",
       "      <td>S</td>\n",
       "      <td>1</td>\n",
       "      <td>0</td>\n",
       "      <td>1</td>\n",
       "      <td>0</td>\n",
       "      <td>0</td>\n",
       "      <td>Adult</td>\n",
       "    </tr>\n",
       "    <tr>\n",
       "      <th>1</th>\n",
       "      <td>First Class</td>\n",
       "      <td>1</td>\n",
       "      <td>Allison, Master. Hudson Trevor</td>\n",
       "      <td>male</td>\n",
       "      <td>0.9167</td>\n",
       "      <td>1</td>\n",
       "      <td>2</td>\n",
       "      <td>113781</td>\n",
       "      <td>151.5500</td>\n",
       "      <td>S</td>\n",
       "      <td>1</td>\n",
       "      <td>3</td>\n",
       "      <td>0</td>\n",
       "      <td>1</td>\n",
       "      <td>0</td>\n",
       "      <td>Infant</td>\n",
       "    </tr>\n",
       "    <tr>\n",
       "      <th>2</th>\n",
       "      <td>First Class</td>\n",
       "      <td>0</td>\n",
       "      <td>Allison, Miss. Helen Loraine</td>\n",
       "      <td>female</td>\n",
       "      <td>2.0000</td>\n",
       "      <td>1</td>\n",
       "      <td>2</td>\n",
       "      <td>113781</td>\n",
       "      <td>151.5500</td>\n",
       "      <td>S</td>\n",
       "      <td>1</td>\n",
       "      <td>3</td>\n",
       "      <td>0</td>\n",
       "      <td>1</td>\n",
       "      <td>0</td>\n",
       "      <td>Child</td>\n",
       "    </tr>\n",
       "    <tr>\n",
       "      <th>3</th>\n",
       "      <td>First Class</td>\n",
       "      <td>0</td>\n",
       "      <td>Allison, Mr. Hudson Joshua Creighton</td>\n",
       "      <td>male</td>\n",
       "      <td>30.0000</td>\n",
       "      <td>1</td>\n",
       "      <td>2</td>\n",
       "      <td>113781</td>\n",
       "      <td>151.5500</td>\n",
       "      <td>S</td>\n",
       "      <td>1</td>\n",
       "      <td>3</td>\n",
       "      <td>0</td>\n",
       "      <td>0</td>\n",
       "      <td>0</td>\n",
       "      <td>Adult</td>\n",
       "    </tr>\n",
       "    <tr>\n",
       "      <th>4</th>\n",
       "      <td>First Class</td>\n",
       "      <td>0</td>\n",
       "      <td>Allison, Mrs. Hudson J C (Bessie Waldo Daniels)</td>\n",
       "      <td>female</td>\n",
       "      <td>25.0000</td>\n",
       "      <td>1</td>\n",
       "      <td>2</td>\n",
       "      <td>113781</td>\n",
       "      <td>151.5500</td>\n",
       "      <td>S</td>\n",
       "      <td>1</td>\n",
       "      <td>3</td>\n",
       "      <td>0</td>\n",
       "      <td>0</td>\n",
       "      <td>0</td>\n",
       "      <td>Adult</td>\n",
       "    </tr>\n",
       "  </tbody>\n",
       "</table>\n",
       "</div>"
      ],
      "text/plain": [
       "        pclass  survived                                             name  \\\n",
       "0  First Class         1                    Allen, Miss. Elisabeth Walton   \n",
       "1  First Class         1                   Allison, Master. Hudson Trevor   \n",
       "2  First Class         0                     Allison, Miss. Helen Loraine   \n",
       "3  First Class         0             Allison, Mr. Hudson Joshua Creighton   \n",
       "4  First Class         0  Allison, Mrs. Hudson J C (Bessie Waldo Daniels)   \n",
       "\n",
       "      sex      age  sibsp  parch  ticket      fare embarked  \\\n",
       "0  female  29.0000      0      0   24160  211.3375        S   \n",
       "1    male   0.9167      1      2  113781  151.5500        S   \n",
       "2  female   2.0000      1      2  113781  151.5500        S   \n",
       "3    male  30.0000      1      2  113781  151.5500        S   \n",
       "4  female  25.0000      1      2  113781  151.5500        S   \n",
       "\n",
       "   Titantic Passenger  Family Size  Travel Alone  Has Caregiver  Crew  \\\n",
       "0                   1            0             1              0     0   \n",
       "1                   1            3             0              1     0   \n",
       "2                   1            3             0              1     0   \n",
       "3                   1            3             0              0     0   \n",
       "4                   1            3             0              0     0   \n",
       "\n",
       "  Age Group  \n",
       "0     Adult  \n",
       "1    Infant  \n",
       "2     Child  \n",
       "3     Adult  \n",
       "4     Adult  "
      ]
     },
     "execution_count": 27,
     "metadata": {},
     "output_type": "execute_result"
    }
   ],
   "source": [
    "ship.head()"
   ]
  },
  {
   "cell_type": "code",
   "execution_count": 29,
   "id": "cd447f48",
   "metadata": {},
   "outputs": [
    {
     "data": {
      "text/html": [
       "<div>\n",
       "<style scoped>\n",
       "    .dataframe tbody tr th:only-of-type {\n",
       "        vertical-align: middle;\n",
       "    }\n",
       "\n",
       "    .dataframe tbody tr th {\n",
       "        vertical-align: top;\n",
       "    }\n",
       "\n",
       "    .dataframe thead th {\n",
       "        text-align: right;\n",
       "    }\n",
       "</style>\n",
       "<table border=\"1\" class=\"dataframe\">\n",
       "  <thead>\n",
       "    <tr style=\"text-align: right;\">\n",
       "      <th></th>\n",
       "      <th>pclass</th>\n",
       "      <th>survived</th>\n",
       "      <th>name</th>\n",
       "      <th>sex</th>\n",
       "      <th>age</th>\n",
       "      <th>sibsp</th>\n",
       "      <th>parch</th>\n",
       "      <th>ticket</th>\n",
       "      <th>fare</th>\n",
       "      <th>embarked</th>\n",
       "      <th>Titantic Passenger</th>\n",
       "      <th>Family Size</th>\n",
       "      <th>Travel Alone</th>\n",
       "      <th>Has Caregiver</th>\n",
       "      <th>Crew</th>\n",
       "      <th>Age Group</th>\n",
       "    </tr>\n",
       "  </thead>\n",
       "  <tbody>\n",
       "    <tr>\n",
       "      <th>1041</th>\n",
       "      <td>Third Class</td>\n",
       "      <td>Did not survive</td>\n",
       "      <td>Youseff, Mr. Gerious</td>\n",
       "      <td>male</td>\n",
       "      <td>45.5</td>\n",
       "      <td>0</td>\n",
       "      <td>0</td>\n",
       "      <td>2628</td>\n",
       "      <td>7.2250</td>\n",
       "      <td>C</td>\n",
       "      <td>1</td>\n",
       "      <td>0</td>\n",
       "      <td>1</td>\n",
       "      <td>0</td>\n",
       "      <td>0</td>\n",
       "      <td>Adult</td>\n",
       "    </tr>\n",
       "    <tr>\n",
       "      <th>1042</th>\n",
       "      <td>Third Class</td>\n",
       "      <td>Did not survive</td>\n",
       "      <td>Zabour, Miss. Hileni</td>\n",
       "      <td>female</td>\n",
       "      <td>14.5</td>\n",
       "      <td>1</td>\n",
       "      <td>0</td>\n",
       "      <td>2665</td>\n",
       "      <td>14.4542</td>\n",
       "      <td>C</td>\n",
       "      <td>1</td>\n",
       "      <td>1</td>\n",
       "      <td>0</td>\n",
       "      <td>0</td>\n",
       "      <td>0</td>\n",
       "      <td>Teen</td>\n",
       "    </tr>\n",
       "    <tr>\n",
       "      <th>1043</th>\n",
       "      <td>Third Class</td>\n",
       "      <td>Did not survive</td>\n",
       "      <td>Zakarian, Mr. Mapriededer</td>\n",
       "      <td>male</td>\n",
       "      <td>26.5</td>\n",
       "      <td>0</td>\n",
       "      <td>0</td>\n",
       "      <td>2656</td>\n",
       "      <td>7.2250</td>\n",
       "      <td>C</td>\n",
       "      <td>1</td>\n",
       "      <td>0</td>\n",
       "      <td>1</td>\n",
       "      <td>0</td>\n",
       "      <td>0</td>\n",
       "      <td>Adult</td>\n",
       "    </tr>\n",
       "    <tr>\n",
       "      <th>1044</th>\n",
       "      <td>Third Class</td>\n",
       "      <td>Did not survive</td>\n",
       "      <td>Zakarian, Mr. Ortin</td>\n",
       "      <td>male</td>\n",
       "      <td>27.0</td>\n",
       "      <td>0</td>\n",
       "      <td>0</td>\n",
       "      <td>2670</td>\n",
       "      <td>7.2250</td>\n",
       "      <td>C</td>\n",
       "      <td>1</td>\n",
       "      <td>0</td>\n",
       "      <td>1</td>\n",
       "      <td>0</td>\n",
       "      <td>0</td>\n",
       "      <td>Adult</td>\n",
       "    </tr>\n",
       "    <tr>\n",
       "      <th>1045</th>\n",
       "      <td>Third Class</td>\n",
       "      <td>Did not survive</td>\n",
       "      <td>Zimmerman, Mr. Leo</td>\n",
       "      <td>male</td>\n",
       "      <td>29.0</td>\n",
       "      <td>0</td>\n",
       "      <td>0</td>\n",
       "      <td>315082</td>\n",
       "      <td>7.8750</td>\n",
       "      <td>S</td>\n",
       "      <td>1</td>\n",
       "      <td>0</td>\n",
       "      <td>1</td>\n",
       "      <td>0</td>\n",
       "      <td>0</td>\n",
       "      <td>Adult</td>\n",
       "    </tr>\n",
       "  </tbody>\n",
       "</table>\n",
       "</div>"
      ],
      "text/plain": [
       "           pclass         survived                       name     sex   age  \\\n",
       "1041  Third Class  Did not survive       Youseff, Mr. Gerious    male  45.5   \n",
       "1042  Third Class  Did not survive       Zabour, Miss. Hileni  female  14.5   \n",
       "1043  Third Class  Did not survive  Zakarian, Mr. Mapriededer    male  26.5   \n",
       "1044  Third Class  Did not survive        Zakarian, Mr. Ortin    male  27.0   \n",
       "1045  Third Class  Did not survive         Zimmerman, Mr. Leo    male  29.0   \n",
       "\n",
       "      sibsp  parch  ticket     fare embarked  Titantic Passenger  Family Size  \\\n",
       "1041      0      0    2628   7.2250        C                   1            0   \n",
       "1042      1      0    2665  14.4542        C                   1            1   \n",
       "1043      0      0    2656   7.2250        C                   1            0   \n",
       "1044      0      0    2670   7.2250        C                   1            0   \n",
       "1045      0      0  315082   7.8750        S                   1            0   \n",
       "\n",
       "      Travel Alone  Has Caregiver  Crew Age Group  \n",
       "1041             1              0     0     Adult  \n",
       "1042             0              0     0      Teen  \n",
       "1043             1              0     0     Adult  \n",
       "1044             1              0     0     Adult  \n",
       "1045             1              0     0     Adult  "
      ]
     },
     "execution_count": 29,
     "metadata": {},
     "output_type": "execute_result"
    }
   ],
   "source": [
    "#After creating new columns, replace the basic coding \"0/1\" with meaningful labels.\n",
    "ship.loc[ship[\"survived\"]==1,\"survived\"] = \"Survived\"\n",
    "ship.loc[ship[\"survived\"]==0,\"survived\"] = \"Did not survive\"\n",
    "ship.tail()"
   ]
  },
  {
   "cell_type": "code",
   "execution_count": 30,
   "id": "7b382ffa",
   "metadata": {},
   "outputs": [
    {
     "data": {
      "text/html": [
       "<div>\n",
       "<style scoped>\n",
       "    .dataframe tbody tr th:only-of-type {\n",
       "        vertical-align: middle;\n",
       "    }\n",
       "\n",
       "    .dataframe tbody tr th {\n",
       "        vertical-align: top;\n",
       "    }\n",
       "\n",
       "    .dataframe thead th {\n",
       "        text-align: right;\n",
       "    }\n",
       "</style>\n",
       "<table border=\"1\" class=\"dataframe\">\n",
       "  <thead>\n",
       "    <tr style=\"text-align: right;\">\n",
       "      <th></th>\n",
       "      <th>pclass</th>\n",
       "      <th>survived</th>\n",
       "      <th>name</th>\n",
       "      <th>sex</th>\n",
       "      <th>age</th>\n",
       "      <th>sibsp</th>\n",
       "      <th>parch</th>\n",
       "      <th>ticket</th>\n",
       "      <th>fare</th>\n",
       "      <th>embarked</th>\n",
       "      <th>Titantic Passenger</th>\n",
       "      <th>Family Size</th>\n",
       "      <th>Travel Alone</th>\n",
       "      <th>Has Caregiver</th>\n",
       "      <th>Crew</th>\n",
       "      <th>Age Group</th>\n",
       "    </tr>\n",
       "  </thead>\n",
       "  <tbody>\n",
       "    <tr>\n",
       "      <th>1041</th>\n",
       "      <td>Third Class</td>\n",
       "      <td>Did not survive</td>\n",
       "      <td>Youseff, Mr. Gerious</td>\n",
       "      <td>male</td>\n",
       "      <td>45.5</td>\n",
       "      <td>0</td>\n",
       "      <td>0</td>\n",
       "      <td>2628</td>\n",
       "      <td>7.2250</td>\n",
       "      <td>Cherbourg</td>\n",
       "      <td>1</td>\n",
       "      <td>0</td>\n",
       "      <td>1</td>\n",
       "      <td>0</td>\n",
       "      <td>0</td>\n",
       "      <td>Adult</td>\n",
       "    </tr>\n",
       "    <tr>\n",
       "      <th>1042</th>\n",
       "      <td>Third Class</td>\n",
       "      <td>Did not survive</td>\n",
       "      <td>Zabour, Miss. Hileni</td>\n",
       "      <td>female</td>\n",
       "      <td>14.5</td>\n",
       "      <td>1</td>\n",
       "      <td>0</td>\n",
       "      <td>2665</td>\n",
       "      <td>14.4542</td>\n",
       "      <td>Cherbourg</td>\n",
       "      <td>1</td>\n",
       "      <td>1</td>\n",
       "      <td>0</td>\n",
       "      <td>0</td>\n",
       "      <td>0</td>\n",
       "      <td>Teen</td>\n",
       "    </tr>\n",
       "    <tr>\n",
       "      <th>1043</th>\n",
       "      <td>Third Class</td>\n",
       "      <td>Did not survive</td>\n",
       "      <td>Zakarian, Mr. Mapriededer</td>\n",
       "      <td>male</td>\n",
       "      <td>26.5</td>\n",
       "      <td>0</td>\n",
       "      <td>0</td>\n",
       "      <td>2656</td>\n",
       "      <td>7.2250</td>\n",
       "      <td>Cherbourg</td>\n",
       "      <td>1</td>\n",
       "      <td>0</td>\n",
       "      <td>1</td>\n",
       "      <td>0</td>\n",
       "      <td>0</td>\n",
       "      <td>Adult</td>\n",
       "    </tr>\n",
       "    <tr>\n",
       "      <th>1044</th>\n",
       "      <td>Third Class</td>\n",
       "      <td>Did not survive</td>\n",
       "      <td>Zakarian, Mr. Ortin</td>\n",
       "      <td>male</td>\n",
       "      <td>27.0</td>\n",
       "      <td>0</td>\n",
       "      <td>0</td>\n",
       "      <td>2670</td>\n",
       "      <td>7.2250</td>\n",
       "      <td>Cherbourg</td>\n",
       "      <td>1</td>\n",
       "      <td>0</td>\n",
       "      <td>1</td>\n",
       "      <td>0</td>\n",
       "      <td>0</td>\n",
       "      <td>Adult</td>\n",
       "    </tr>\n",
       "    <tr>\n",
       "      <th>1045</th>\n",
       "      <td>Third Class</td>\n",
       "      <td>Did not survive</td>\n",
       "      <td>Zimmerman, Mr. Leo</td>\n",
       "      <td>male</td>\n",
       "      <td>29.0</td>\n",
       "      <td>0</td>\n",
       "      <td>0</td>\n",
       "      <td>315082</td>\n",
       "      <td>7.8750</td>\n",
       "      <td>Southampton</td>\n",
       "      <td>1</td>\n",
       "      <td>0</td>\n",
       "      <td>1</td>\n",
       "      <td>0</td>\n",
       "      <td>0</td>\n",
       "      <td>Adult</td>\n",
       "    </tr>\n",
       "  </tbody>\n",
       "</table>\n",
       "</div>"
      ],
      "text/plain": [
       "           pclass         survived                       name     sex   age  \\\n",
       "1041  Third Class  Did not survive       Youseff, Mr. Gerious    male  45.5   \n",
       "1042  Third Class  Did not survive       Zabour, Miss. Hileni  female  14.5   \n",
       "1043  Third Class  Did not survive  Zakarian, Mr. Mapriededer    male  26.5   \n",
       "1044  Third Class  Did not survive        Zakarian, Mr. Ortin    male  27.0   \n",
       "1045  Third Class  Did not survive         Zimmerman, Mr. Leo    male  29.0   \n",
       "\n",
       "      sibsp  parch  ticket     fare     embarked  Titantic Passenger  \\\n",
       "1041      0      0    2628   7.2250    Cherbourg                   1   \n",
       "1042      1      0    2665  14.4542    Cherbourg                   1   \n",
       "1043      0      0    2656   7.2250    Cherbourg                   1   \n",
       "1044      0      0    2670   7.2250    Cherbourg                   1   \n",
       "1045      0      0  315082   7.8750  Southampton                   1   \n",
       "\n",
       "      Family Size  Travel Alone  Has Caregiver  Crew Age Group  \n",
       "1041            0             1              0     0     Adult  \n",
       "1042            1             0              0     0      Teen  \n",
       "1043            0             1              0     0     Adult  \n",
       "1044            0             1              0     0     Adult  \n",
       "1045            0             1              0     0     Adult  "
      ]
     },
     "execution_count": 30,
     "metadata": {},
     "output_type": "execute_result"
    }
   ],
   "source": [
    "ship[\"embarked\"].replace ([\"S\",\"C\",\"Q\"],[\"Southampton\",\"Cherbourg\",\"Queenstown\"],inplace=True)\n",
    "ship.tail()"
   ]
  },
  {
   "cell_type": "code",
   "execution_count": 45,
   "id": "33c468c3",
   "metadata": {},
   "outputs": [],
   "source": [
    "ship.loc[ship[\"Travel Alone\"]==1,\"Travel Alone\"] = \"Solo traveler\"\n",
    "ship.loc[ship[\"Travel Alone\"]==0,\"Travel Alone\"] = \"Not solo\"\n",
    "ship.loc[ship[\"Has Caregiver\"]==0,\"Has Caregiver\"] = \"No Caregiver\"\n",
    "ship.loc[ship[\"Has Caregiver\"]==1,\"Has Caregiver\"] = \"Caregiver\""
   ]
  },
  {
   "cell_type": "code",
   "execution_count": 46,
   "id": "c6748d2d",
   "metadata": {},
   "outputs": [
    {
     "data": {
      "text/html": [
       "<div>\n",
       "<style scoped>\n",
       "    .dataframe tbody tr th:only-of-type {\n",
       "        vertical-align: middle;\n",
       "    }\n",
       "\n",
       "    .dataframe tbody tr th {\n",
       "        vertical-align: top;\n",
       "    }\n",
       "\n",
       "    .dataframe thead th {\n",
       "        text-align: right;\n",
       "    }\n",
       "</style>\n",
       "<table border=\"1\" class=\"dataframe\">\n",
       "  <thead>\n",
       "    <tr style=\"text-align: right;\">\n",
       "      <th></th>\n",
       "      <th>pclass</th>\n",
       "      <th>survived</th>\n",
       "      <th>name</th>\n",
       "      <th>sex</th>\n",
       "      <th>age</th>\n",
       "      <th>sibsp</th>\n",
       "      <th>parch</th>\n",
       "      <th>ticket</th>\n",
       "      <th>fare</th>\n",
       "      <th>embarked</th>\n",
       "      <th>Titantic Passenger</th>\n",
       "      <th>Family Size</th>\n",
       "      <th>Travel Alone</th>\n",
       "      <th>Has Caregiver</th>\n",
       "      <th>Crew</th>\n",
       "      <th>Age Group</th>\n",
       "    </tr>\n",
       "  </thead>\n",
       "  <tbody>\n",
       "    <tr>\n",
       "      <th>0</th>\n",
       "      <td>First Class</td>\n",
       "      <td>Survived</td>\n",
       "      <td>Allen, Miss. Elisabeth Walton</td>\n",
       "      <td>female</td>\n",
       "      <td>29.0000</td>\n",
       "      <td>0</td>\n",
       "      <td>0</td>\n",
       "      <td>24160</td>\n",
       "      <td>211.3375</td>\n",
       "      <td>Southampton</td>\n",
       "      <td>1</td>\n",
       "      <td>0</td>\n",
       "      <td>Solo traveler</td>\n",
       "      <td>No Caregiver</td>\n",
       "      <td>0</td>\n",
       "      <td>Adult</td>\n",
       "    </tr>\n",
       "    <tr>\n",
       "      <th>1</th>\n",
       "      <td>First Class</td>\n",
       "      <td>Survived</td>\n",
       "      <td>Allison, Master. Hudson Trevor</td>\n",
       "      <td>male</td>\n",
       "      <td>0.9167</td>\n",
       "      <td>1</td>\n",
       "      <td>2</td>\n",
       "      <td>113781</td>\n",
       "      <td>151.5500</td>\n",
       "      <td>Southampton</td>\n",
       "      <td>1</td>\n",
       "      <td>3</td>\n",
       "      <td>Not solo</td>\n",
       "      <td>Caregiver</td>\n",
       "      <td>0</td>\n",
       "      <td>Infant</td>\n",
       "    </tr>\n",
       "    <tr>\n",
       "      <th>2</th>\n",
       "      <td>First Class</td>\n",
       "      <td>Did not survive</td>\n",
       "      <td>Allison, Miss. Helen Loraine</td>\n",
       "      <td>female</td>\n",
       "      <td>2.0000</td>\n",
       "      <td>1</td>\n",
       "      <td>2</td>\n",
       "      <td>113781</td>\n",
       "      <td>151.5500</td>\n",
       "      <td>Southampton</td>\n",
       "      <td>1</td>\n",
       "      <td>3</td>\n",
       "      <td>Not solo</td>\n",
       "      <td>Caregiver</td>\n",
       "      <td>0</td>\n",
       "      <td>Child</td>\n",
       "    </tr>\n",
       "    <tr>\n",
       "      <th>3</th>\n",
       "      <td>First Class</td>\n",
       "      <td>Did not survive</td>\n",
       "      <td>Allison, Mr. Hudson Joshua Creighton</td>\n",
       "      <td>male</td>\n",
       "      <td>30.0000</td>\n",
       "      <td>1</td>\n",
       "      <td>2</td>\n",
       "      <td>113781</td>\n",
       "      <td>151.5500</td>\n",
       "      <td>Southampton</td>\n",
       "      <td>1</td>\n",
       "      <td>3</td>\n",
       "      <td>Not solo</td>\n",
       "      <td>No Caregiver</td>\n",
       "      <td>0</td>\n",
       "      <td>Adult</td>\n",
       "    </tr>\n",
       "    <tr>\n",
       "      <th>4</th>\n",
       "      <td>First Class</td>\n",
       "      <td>Did not survive</td>\n",
       "      <td>Allison, Mrs. Hudson J C (Bessie Waldo Daniels)</td>\n",
       "      <td>female</td>\n",
       "      <td>25.0000</td>\n",
       "      <td>1</td>\n",
       "      <td>2</td>\n",
       "      <td>113781</td>\n",
       "      <td>151.5500</td>\n",
       "      <td>Southampton</td>\n",
       "      <td>1</td>\n",
       "      <td>3</td>\n",
       "      <td>Not solo</td>\n",
       "      <td>No Caregiver</td>\n",
       "      <td>0</td>\n",
       "      <td>Adult</td>\n",
       "    </tr>\n",
       "  </tbody>\n",
       "</table>\n",
       "</div>"
      ],
      "text/plain": [
       "        pclass         survived  \\\n",
       "0  First Class         Survived   \n",
       "1  First Class         Survived   \n",
       "2  First Class  Did not survive   \n",
       "3  First Class  Did not survive   \n",
       "4  First Class  Did not survive   \n",
       "\n",
       "                                              name     sex      age  sibsp  \\\n",
       "0                    Allen, Miss. Elisabeth Walton  female  29.0000      0   \n",
       "1                   Allison, Master. Hudson Trevor    male   0.9167      1   \n",
       "2                     Allison, Miss. Helen Loraine  female   2.0000      1   \n",
       "3             Allison, Mr. Hudson Joshua Creighton    male  30.0000      1   \n",
       "4  Allison, Mrs. Hudson J C (Bessie Waldo Daniels)  female  25.0000      1   \n",
       "\n",
       "   parch  ticket      fare     embarked  Titantic Passenger  Family Size  \\\n",
       "0      0   24160  211.3375  Southampton                   1            0   \n",
       "1      2  113781  151.5500  Southampton                   1            3   \n",
       "2      2  113781  151.5500  Southampton                   1            3   \n",
       "3      2  113781  151.5500  Southampton                   1            3   \n",
       "4      2  113781  151.5500  Southampton                   1            3   \n",
       "\n",
       "    Travel Alone Has Caregiver  Crew Age Group  \n",
       "0  Solo traveler  No Caregiver     0     Adult  \n",
       "1       Not solo     Caregiver     0    Infant  \n",
       "2       Not solo     Caregiver     0     Child  \n",
       "3       Not solo  No Caregiver     0     Adult  \n",
       "4       Not solo  No Caregiver     0     Adult  "
      ]
     },
     "execution_count": 46,
     "metadata": {},
     "output_type": "execute_result"
    }
   ],
   "source": [
    "ship.head()"
   ]
  },
  {
   "cell_type": "markdown",
   "id": "e1a4c929",
   "metadata": {},
   "source": [
    "### Determine Frequencies of Groups\n",
    "\n",
    "* How many passengers fall into each category? Determine how many passengers fall into each group for <b>each</b> categorical vairable (including the ones you just created). "
   ]
  },
  {
   "cell_type": "code",
   "execution_count": 31,
   "id": "f35aa4ac",
   "metadata": {},
   "outputs": [
    {
     "data": {
      "text/plain": [
       "Third Class     501\n",
       "First Class     284\n",
       "Second Class    261\n",
       "Name: pclass, dtype: int64"
      ]
     },
     "execution_count": 31,
     "metadata": {},
     "output_type": "execute_result"
    }
   ],
   "source": [
    "ship[\"pclass\"].value_counts()"
   ]
  },
  {
   "cell_type": "code",
   "execution_count": 32,
   "id": "e6114c95",
   "metadata": {},
   "outputs": [
    {
     "data": {
      "text/plain": [
       "Did not survive    619\n",
       "Survived           427\n",
       "Name: survived, dtype: int64"
      ]
     },
     "execution_count": 32,
     "metadata": {},
     "output_type": "execute_result"
    }
   ],
   "source": [
    "ship[\"survived\"].value_counts()"
   ]
  },
  {
   "cell_type": "code",
   "execution_count": 33,
   "id": "947f05f1",
   "metadata": {},
   "outputs": [
    {
     "data": {
      "text/plain": [
       "male      658\n",
       "female    388\n",
       "Name: sex, dtype: int64"
      ]
     },
     "execution_count": 33,
     "metadata": {},
     "output_type": "execute_result"
    }
   ],
   "source": [
    "ship[\"sex\"].value_counts()"
   ]
  },
  {
   "cell_type": "code",
   "execution_count": 34,
   "id": "f758b0db",
   "metadata": {},
   "outputs": [
    {
     "data": {
      "text/plain": [
       "24.0000    47\n",
       "22.0000    43\n",
       "21.0000    41\n",
       "30.0000    40\n",
       "18.0000    39\n",
       "           ..\n",
       "0.6667      1\n",
       "20.5000     1\n",
       "23.5000     1\n",
       "24.5000     1\n",
       "60.5000     1\n",
       "Name: age, Length: 98, dtype: int64"
      ]
     },
     "execution_count": 34,
     "metadata": {},
     "output_type": "execute_result"
    }
   ],
   "source": [
    "ship[\"age\"].value_counts()"
   ]
  },
  {
   "cell_type": "code",
   "execution_count": 35,
   "id": "92aec87f",
   "metadata": {},
   "outputs": [
    {
     "data": {
      "text/plain": [
       "0    685\n",
       "1    280\n",
       "2     36\n",
       "4     22\n",
       "3     16\n",
       "5      6\n",
       "8      1\n",
       "Name: sibsp, dtype: int64"
      ]
     },
     "execution_count": 35,
     "metadata": {},
     "output_type": "execute_result"
    }
   ],
   "source": [
    "ship[\"sibsp\"].value_counts()"
   ]
  },
  {
   "cell_type": "code",
   "execution_count": 36,
   "id": "61beddcd",
   "metadata": {},
   "outputs": [
    {
     "data": {
      "text/plain": [
       "0    768\n",
       "1    160\n",
       "2     97\n",
       "3      8\n",
       "5      6\n",
       "4      5\n",
       "6      2\n",
       "Name: parch, dtype: int64"
      ]
     },
     "execution_count": 36,
     "metadata": {},
     "output_type": "execute_result"
    }
   ],
   "source": [
    "ship[\"parch\"].value_counts()"
   ]
  },
  {
   "cell_type": "code",
   "execution_count": 37,
   "id": "b8e6db13",
   "metadata": {},
   "outputs": [
    {
     "data": {
      "text/plain": [
       "Southampton    784\n",
       "Cherbourg      212\n",
       "Queenstown      50\n",
       "Name: embarked, dtype: int64"
      ]
     },
     "execution_count": 37,
     "metadata": {},
     "output_type": "execute_result"
    }
   ],
   "source": [
    "ship[\"embarked\"].value_counts()"
   ]
  },
  {
   "cell_type": "code",
   "execution_count": 38,
   "id": "767c58df",
   "metadata": {},
   "outputs": [
    {
     "data": {
      "text/plain": [
       "1    1046\n",
       "Name: Titantic Passenger, dtype: int64"
      ]
     },
     "execution_count": 38,
     "metadata": {},
     "output_type": "execute_result"
    }
   ],
   "source": [
    "ship[\"Titantic Passenger\"].value_counts()"
   ]
  },
  {
   "cell_type": "code",
   "execution_count": 39,
   "id": "5dd92684",
   "metadata": {},
   "outputs": [
    {
     "data": {
      "text/plain": [
       "0    1038\n",
       "1       8\n",
       "Name: Crew, dtype: int64"
      ]
     },
     "execution_count": 39,
     "metadata": {},
     "output_type": "execute_result"
    }
   ],
   "source": [
    "ship[\"Crew\"].value_counts() #only 8 crew?"
   ]
  },
  {
   "cell_type": "code",
   "execution_count": 43,
   "id": "5e275199",
   "metadata": {},
   "outputs": [
    {
     "data": {
      "text/plain": [
       "Solo traveler    590\n",
       "Not solo         456\n",
       "Name: Travel Alone, dtype: int64"
      ]
     },
     "execution_count": 43,
     "metadata": {},
     "output_type": "execute_result"
    }
   ],
   "source": [
    "ship[\"Travel Alone\"].value_counts()"
   ]
  },
  {
   "cell_type": "code",
   "execution_count": 47,
   "id": "4f60fa9b",
   "metadata": {},
   "outputs": [
    {
     "data": {
      "text/plain": [
       "No Caregiver    1006\n",
       "Caregiver         40\n",
       "Name: Has Caregiver, dtype: int64"
      ]
     },
     "execution_count": 47,
     "metadata": {},
     "output_type": "execute_result"
    }
   ],
   "source": [
    "ship[\"Has Caregiver\"].value_counts()"
   ]
  },
  {
   "cell_type": "code",
   "execution_count": 48,
   "id": "ba571a0d",
   "metadata": {},
   "outputs": [
    {
     "data": {
      "text/plain": [
       "Adult     746\n",
       "Teen      196\n",
       "Child      72\n",
       "Infant     22\n",
       "Senior     10\n",
       "Name: Age Group, dtype: int64"
      ]
     },
     "execution_count": 48,
     "metadata": {},
     "output_type": "execute_result"
    }
   ],
   "source": [
    "ship[\"Age Group\"].value_counts()"
   ]
  },
  {
   "cell_type": "code",
   "execution_count": 49,
   "id": "017de829",
   "metadata": {},
   "outputs": [
    {
     "data": {
      "text/plain": [
       "0     590\n",
       "1     206\n",
       "2     144\n",
       "3      39\n",
       "5      25\n",
       "4      17\n",
       "6      16\n",
       "7       8\n",
       "10      1\n",
       "Name: Family Size, dtype: int64"
      ]
     },
     "execution_count": 49,
     "metadata": {},
     "output_type": "execute_result"
    }
   ],
   "source": [
    "ship[\"Family Size\"].value_counts()"
   ]
  },
  {
   "cell_type": "markdown",
   "id": "9a8c7799",
   "metadata": {},
   "source": [
    "### Determine the Distribution of Numeric Data\n",
    "\n",
    "* What are the summary statistics for <b>each</b> numeric variable in the dataset? Summary statistics include:\n",
    "    * Mean\n",
    "    * Median\n",
    "    * Mode\n",
    "    * Standard Deviation\n",
    "    * Range"
   ]
  },
  {
   "cell_type": "code",
   "execution_count": 76,
   "id": "3b3167f6",
   "metadata": {},
   "outputs": [
    {
     "name": "stdout",
     "output_type": "stream",
     "text": [
      " The average age is  29.8811345124283\n",
      " The median is  28.0\n",
      " The mode age is  0    24.0\n",
      "dtype: float64\n",
      " The standard deviation of age is  14.413499699923594\n",
      " The range of age is  79.8333\n"
     ]
    }
   ],
   "source": [
    "print (\" The average age is \", ship[\"age\"].mean()) \n",
    "print (\" The median is \", ship[\"age\"].median()) \n",
    "print (\" The mode age is \", ship[\"age\"].mode()) \n",
    "print (\" The standard deviation of age is \", ship[\"age\"].std()) \n",
    "print (\" The range of age is \", ship[\"age\"].max() - ship[\"age\"].min())"
   ]
  },
  {
   "cell_type": "code",
   "execution_count": 77,
   "id": "db874e65",
   "metadata": {},
   "outputs": [
    {
     "data": {
      "text/plain": [
       "survived\n",
       "Did not survive    28.0\n",
       "Survived           28.0\n",
       "Name: age, dtype: float64"
      ]
     },
     "execution_count": 77,
     "metadata": {},
     "output_type": "execute_result"
    }
   ],
   "source": [
    "ship[\"age\"].groupby (ship[\"survived\"]).median() # Age does not seem to have had an impact"
   ]
  },
  {
   "cell_type": "code",
   "execution_count": 78,
   "id": "140d69b0",
   "metadata": {},
   "outputs": [
    {
     "data": {
      "text/plain": [
       "survived\n",
       "Did not survive    30.545369\n",
       "Survived           28.918228\n",
       "Name: age, dtype: float64"
      ]
     },
     "execution_count": 78,
     "metadata": {},
     "output_type": "execute_result"
    }
   ],
   "source": [
    "ship[\"age\"].groupby (ship[\"survived\"]).mean() # Age does not seem to have had an impact"
   ]
  },
  {
   "cell_type": "code",
   "execution_count": 79,
   "id": "a1343462",
   "metadata": {},
   "outputs": [
    {
     "name": "stdout",
     "output_type": "stream",
     "text": [
      " The average number of siblings is  0.502868068833652\n",
      " The median is  0.0\n",
      " The mode  is  0    0\n",
      "dtype: int64\n",
      " The standard deviation  is  0.912167299664662\n",
      " The range is  8\n"
     ]
    }
   ],
   "source": [
    "print (\" The average number of siblings is \", ship[\"sibsp\"].mean()) \n",
    "print (\" The median is \", ship[\"sibsp\"].median()) \n",
    "print (\" The mode  is \", ship[\"sibsp\"].mode()) \n",
    "print (\" The standard deviation  is \", ship[\"sibsp\"].std()) \n",
    "print (\" The range is \", ship[\"sibsp\"].max() - ship[\"sibsp\"].min())"
   ]
  },
  {
   "cell_type": "code",
   "execution_count": 80,
   "id": "7ab2c8c5",
   "metadata": {},
   "outputs": [
    {
     "data": {
      "text/html": [
       "<div>\n",
       "<style scoped>\n",
       "    .dataframe tbody tr th:only-of-type {\n",
       "        vertical-align: middle;\n",
       "    }\n",
       "\n",
       "    .dataframe tbody tr th {\n",
       "        vertical-align: top;\n",
       "    }\n",
       "\n",
       "    .dataframe thead th {\n",
       "        text-align: right;\n",
       "    }\n",
       "</style>\n",
       "<table border=\"1\" class=\"dataframe\">\n",
       "  <thead>\n",
       "    <tr style=\"text-align: right;\">\n",
       "      <th>sibsp</th>\n",
       "      <th>0</th>\n",
       "      <th>1</th>\n",
       "      <th>2</th>\n",
       "      <th>3</th>\n",
       "      <th>4</th>\n",
       "      <th>5</th>\n",
       "      <th>8</th>\n",
       "    </tr>\n",
       "    <tr>\n",
       "      <th>survived</th>\n",
       "      <th></th>\n",
       "      <th></th>\n",
       "      <th></th>\n",
       "      <th></th>\n",
       "      <th></th>\n",
       "      <th></th>\n",
       "      <th></th>\n",
       "    </tr>\n",
       "  </thead>\n",
       "  <tbody>\n",
       "    <tr>\n",
       "      <th>Did not survive</th>\n",
       "      <td>430</td>\n",
       "      <td>133</td>\n",
       "      <td>20</td>\n",
       "      <td>10</td>\n",
       "      <td>19</td>\n",
       "      <td>6</td>\n",
       "      <td>1</td>\n",
       "    </tr>\n",
       "    <tr>\n",
       "      <th>Survived</th>\n",
       "      <td>255</td>\n",
       "      <td>147</td>\n",
       "      <td>16</td>\n",
       "      <td>6</td>\n",
       "      <td>3</td>\n",
       "      <td>0</td>\n",
       "      <td>0</td>\n",
       "    </tr>\n",
       "  </tbody>\n",
       "</table>\n",
       "</div>"
      ],
      "text/plain": [
       "sibsp              0    1   2   3   4  5  8\n",
       "survived                                   \n",
       "Did not survive  430  133  20  10  19  6  1\n",
       "Survived         255  147  16   6   3  0  0"
      ]
     },
     "execution_count": 80,
     "metadata": {},
     "output_type": "execute_result"
    }
   ],
   "source": [
    "pd.crosstab(ship[\"survived\"],ship[\"sibsp\"]) #The fewer siblings, the better survival rate"
   ]
  },
  {
   "cell_type": "code",
   "execution_count": 81,
   "id": "4291f0af",
   "metadata": {},
   "outputs": [
    {
     "name": "stdout",
     "output_type": "stream",
     "text": [
      " The average fare is  36.68283879472418\n",
      " The median is  15.8\n",
      " The mode is  0    13.0\n",
      "dtype: float64\n",
      " The standard deviation  is  55.70595916349577\n",
      " The range is  512.3292\n"
     ]
    }
   ],
   "source": [
    "print (\" The average fare is \", ship[\"fare\"].mean()) \n",
    "print (\" The median is \", ship[\"fare\"].median()) \n",
    "print (\" The mode is \", ship[\"fare\"].mode()) \n",
    "print (\" The standard deviation  is \", ship[\"fare\"].std()) \n",
    "print (\" The range is \", ship[\"fare\"].max() - ship[\"fare\"].min())"
   ]
  },
  {
   "cell_type": "code",
   "execution_count": 82,
   "id": "b91e4460",
   "metadata": {},
   "outputs": [
    {
     "data": {
      "text/html": [
       "<div>\n",
       "<style scoped>\n",
       "    .dataframe tbody tr th:only-of-type {\n",
       "        vertical-align: middle;\n",
       "    }\n",
       "\n",
       "    .dataframe tbody tr th {\n",
       "        vertical-align: top;\n",
       "    }\n",
       "\n",
       "    .dataframe thead th {\n",
       "        text-align: right;\n",
       "    }\n",
       "</style>\n",
       "<table border=\"1\" class=\"dataframe\">\n",
       "  <thead>\n",
       "    <tr style=\"text-align: right;\">\n",
       "      <th>pclass</th>\n",
       "      <th>First Class</th>\n",
       "      <th>Second Class</th>\n",
       "      <th>Third Class</th>\n",
       "    </tr>\n",
       "    <tr>\n",
       "      <th>survived</th>\n",
       "      <th></th>\n",
       "      <th></th>\n",
       "      <th></th>\n",
       "    </tr>\n",
       "  </thead>\n",
       "  <tbody>\n",
       "    <tr>\n",
       "      <th>Did not survive</th>\n",
       "      <td>103</td>\n",
       "      <td>146</td>\n",
       "      <td>370</td>\n",
       "    </tr>\n",
       "    <tr>\n",
       "      <th>Survived</th>\n",
       "      <td>181</td>\n",
       "      <td>115</td>\n",
       "      <td>131</td>\n",
       "    </tr>\n",
       "  </tbody>\n",
       "</table>\n",
       "</div>"
      ],
      "text/plain": [
       "pclass           First Class  Second Class  Third Class\n",
       "survived                                               \n",
       "Did not survive          103           146          370\n",
       "Survived                 181           115          131"
      ]
     },
     "execution_count": 82,
     "metadata": {},
     "output_type": "execute_result"
    }
   ],
   "source": [
    "pd.crosstab(ship[\"survived\"],ship[\"pclass\"]) #Pclass and fare would be related. More first class passengers survived."
   ]
  },
  {
   "cell_type": "code",
   "execution_count": 83,
   "id": "02f0ba65",
   "metadata": {},
   "outputs": [
    {
     "data": {
      "text/html": [
       "<div>\n",
       "<style scoped>\n",
       "    .dataframe tbody tr th:only-of-type {\n",
       "        vertical-align: middle;\n",
       "    }\n",
       "\n",
       "    .dataframe tbody tr th {\n",
       "        vertical-align: top;\n",
       "    }\n",
       "\n",
       "    .dataframe thead th {\n",
       "        text-align: right;\n",
       "    }\n",
       "</style>\n",
       "<table border=\"1\" class=\"dataframe\">\n",
       "  <thead>\n",
       "    <tr style=\"text-align: right;\">\n",
       "      <th>Travel Alone</th>\n",
       "      <th>Not solo</th>\n",
       "      <th>Solo traveler</th>\n",
       "    </tr>\n",
       "    <tr>\n",
       "      <th>survived</th>\n",
       "      <th></th>\n",
       "      <th></th>\n",
       "    </tr>\n",
       "  </thead>\n",
       "  <tbody>\n",
       "    <tr>\n",
       "      <th>Did not survive</th>\n",
       "      <td>217</td>\n",
       "      <td>402</td>\n",
       "    </tr>\n",
       "    <tr>\n",
       "      <th>Survived</th>\n",
       "      <td>239</td>\n",
       "      <td>188</td>\n",
       "    </tr>\n",
       "  </tbody>\n",
       "</table>\n",
       "</div>"
      ],
      "text/plain": [
       "Travel Alone     Not solo  Solo traveler\n",
       "survived                                \n",
       "Did not survive       217            402\n",
       "Survived              239            188"
      ]
     },
     "execution_count": 83,
     "metadata": {},
     "output_type": "execute_result"
    }
   ],
   "source": [
    "pd.crosstab(ship[\"survived\"],ship[\"Travel Alone\"]) #More solo travelers died than those traveling with others"
   ]
  },
  {
   "cell_type": "code",
   "execution_count": 84,
   "id": "b76f9c0f",
   "metadata": {},
   "outputs": [
    {
     "data": {
      "text/html": [
       "<div>\n",
       "<style scoped>\n",
       "    .dataframe tbody tr th:only-of-type {\n",
       "        vertical-align: middle;\n",
       "    }\n",
       "\n",
       "    .dataframe tbody tr th {\n",
       "        vertical-align: top;\n",
       "    }\n",
       "\n",
       "    .dataframe thead th {\n",
       "        text-align: right;\n",
       "    }\n",
       "</style>\n",
       "<table border=\"1\" class=\"dataframe\">\n",
       "  <thead>\n",
       "    <tr style=\"text-align: right;\">\n",
       "      <th>Has Caregiver</th>\n",
       "      <th>Caregiver</th>\n",
       "      <th>No Caregiver</th>\n",
       "    </tr>\n",
       "    <tr>\n",
       "      <th>survived</th>\n",
       "      <th></th>\n",
       "      <th></th>\n",
       "    </tr>\n",
       "  </thead>\n",
       "  <tbody>\n",
       "    <tr>\n",
       "      <th>Did not survive</th>\n",
       "      <td>18</td>\n",
       "      <td>601</td>\n",
       "    </tr>\n",
       "    <tr>\n",
       "      <th>Survived</th>\n",
       "      <td>22</td>\n",
       "      <td>405</td>\n",
       "    </tr>\n",
       "  </tbody>\n",
       "</table>\n",
       "</div>"
      ],
      "text/plain": [
       "Has Caregiver    Caregiver  No Caregiver\n",
       "survived                                \n",
       "Did not survive         18           601\n",
       "Survived                22           405"
      ]
     },
     "execution_count": 84,
     "metadata": {},
     "output_type": "execute_result"
    }
   ],
   "source": [
    "pd.crosstab(ship[\"survived\"],ship[\"Has Caregiver\"])"
   ]
  },
  {
   "cell_type": "code",
   "execution_count": 85,
   "id": "23a56efa",
   "metadata": {},
   "outputs": [
    {
     "data": {
      "text/html": [
       "<div>\n",
       "<style scoped>\n",
       "    .dataframe tbody tr th:only-of-type {\n",
       "        vertical-align: middle;\n",
       "    }\n",
       "\n",
       "    .dataframe tbody tr th {\n",
       "        vertical-align: top;\n",
       "    }\n",
       "\n",
       "    .dataframe thead th {\n",
       "        text-align: right;\n",
       "    }\n",
       "</style>\n",
       "<table border=\"1\" class=\"dataframe\">\n",
       "  <thead>\n",
       "    <tr style=\"text-align: right;\">\n",
       "      <th>parch</th>\n",
       "      <th>0</th>\n",
       "      <th>1</th>\n",
       "      <th>2</th>\n",
       "      <th>3</th>\n",
       "      <th>4</th>\n",
       "      <th>5</th>\n",
       "      <th>6</th>\n",
       "    </tr>\n",
       "    <tr>\n",
       "      <th>survived</th>\n",
       "      <th></th>\n",
       "      <th></th>\n",
       "      <th></th>\n",
       "      <th></th>\n",
       "      <th></th>\n",
       "      <th></th>\n",
       "      <th></th>\n",
       "    </tr>\n",
       "  </thead>\n",
       "  <tbody>\n",
       "    <tr>\n",
       "      <th>Did not survive</th>\n",
       "      <td>498</td>\n",
       "      <td>65</td>\n",
       "      <td>42</td>\n",
       "      <td>3</td>\n",
       "      <td>4</td>\n",
       "      <td>5</td>\n",
       "      <td>2</td>\n",
       "    </tr>\n",
       "    <tr>\n",
       "      <th>Survived</th>\n",
       "      <td>270</td>\n",
       "      <td>95</td>\n",
       "      <td>55</td>\n",
       "      <td>5</td>\n",
       "      <td>1</td>\n",
       "      <td>1</td>\n",
       "      <td>0</td>\n",
       "    </tr>\n",
       "  </tbody>\n",
       "</table>\n",
       "</div>"
      ],
      "text/plain": [
       "parch              0   1   2  3  4  5  6\n",
       "survived                                \n",
       "Did not survive  498  65  42  3  4  5  2\n",
       "Survived         270  95  55  5  1  1  0"
      ]
     },
     "execution_count": 85,
     "metadata": {},
     "output_type": "execute_result"
    }
   ],
   "source": [
    "pd.crosstab(ship[\"survived\"],ship[\"parch\"]) #Parents with children. "
   ]
  },
  {
   "cell_type": "code",
   "execution_count": null,
   "id": "e28784d0",
   "metadata": {},
   "outputs": [],
   "source": []
  },
  {
   "cell_type": "code",
   "execution_count": null,
   "id": "f9846e75",
   "metadata": {},
   "outputs": [],
   "source": []
  },
  {
   "cell_type": "markdown",
   "id": "9bd6de11",
   "metadata": {},
   "source": [
    "### Relationships between Variables\n",
    "\n",
    "* Determine the relationship between each variable and the variable \"survived\". This is our primary variable of interest -- did this passenger survive the accident? Did the characteristics of the passenger have any relationship with their survival?\n",
    "    * <b>pclass</b>: how many survivors are in each passenger class? does a pattern emerge? which class has the most survivors? which has the least?\n",
    "    * <b>sex</b>: how many survivors are in each variable group? does a pattern emerge? which group has the most survivors? which has the least?\n",
    "    * <b>age</b>: how does the average age of the passenger differ based on survival group? \n",
    "    * <b>age group</b>: how many survivors are in each variable group? does a pattern emerge? which group has the most survivors? which has the least?\n",
    "    * <b>family size</b>: how many survivors are in each variable group? does a pattern emerge? which group has the most survivors? which has the least?\n",
    "    * <b>travel alone</b>: how many survivors are in each variable group? does a pattern emerge? which group has the most survivors? which has the least?\n",
    "    * <b>crew</b>: how many survivors are in each variable group? does a pattern emerge? which group has the most survivors? which has the least?\n",
    "    * <b>has caregiver</b>: how many survivors are in each variable group? does a pattern emerge? which group has the most survivors? which has the least?\n",
    "    * <b>fare</b>: how does the average fare the passenger paid differ based on survival group? \n",
    "    * <b>embarked</b>: how many survivors are in each variable group? does a pattern emerge? which group has the most survivors? which has the least?\n",
    "    \n",
    "Based on what you learn working through this section, make (2) statements about what characteristics of passenger most influenced their survival."
   ]
  },
  {
   "cell_type": "code",
   "execution_count": 96,
   "id": "4f702499",
   "metadata": {},
   "outputs": [
    {
     "data": {
      "text/html": [
       "<div>\n",
       "<style scoped>\n",
       "    .dataframe tbody tr th:only-of-type {\n",
       "        vertical-align: middle;\n",
       "    }\n",
       "\n",
       "    .dataframe tbody tr th {\n",
       "        vertical-align: top;\n",
       "    }\n",
       "\n",
       "    .dataframe thead th {\n",
       "        text-align: right;\n",
       "    }\n",
       "</style>\n",
       "<table border=\"1\" class=\"dataframe\">\n",
       "  <thead>\n",
       "    <tr style=\"text-align: right;\">\n",
       "      <th>survived</th>\n",
       "      <th>Did not survive</th>\n",
       "      <th>Survived</th>\n",
       "      <th>All</th>\n",
       "    </tr>\n",
       "    <tr>\n",
       "      <th>pclass</th>\n",
       "      <th></th>\n",
       "      <th></th>\n",
       "      <th></th>\n",
       "    </tr>\n",
       "  </thead>\n",
       "  <tbody>\n",
       "    <tr>\n",
       "      <th>First Class</th>\n",
       "      <td>103</td>\n",
       "      <td>181</td>\n",
       "      <td>284</td>\n",
       "    </tr>\n",
       "    <tr>\n",
       "      <th>Second Class</th>\n",
       "      <td>146</td>\n",
       "      <td>115</td>\n",
       "      <td>261</td>\n",
       "    </tr>\n",
       "    <tr>\n",
       "      <th>Third Class</th>\n",
       "      <td>370</td>\n",
       "      <td>131</td>\n",
       "      <td>501</td>\n",
       "    </tr>\n",
       "    <tr>\n",
       "      <th>All</th>\n",
       "      <td>619</td>\n",
       "      <td>427</td>\n",
       "      <td>1046</td>\n",
       "    </tr>\n",
       "  </tbody>\n",
       "</table>\n",
       "</div>"
      ],
      "text/plain": [
       "survived      Did not survive  Survived   All\n",
       "pclass                                       \n",
       "First Class               103       181   284\n",
       "Second Class              146       115   261\n",
       "Third Class               370       131   501\n",
       "All                       619       427  1046"
      ]
     },
     "execution_count": 96,
     "metadata": {},
     "output_type": "execute_result"
    }
   ],
   "source": [
    "#pclass: how many survivors are in each passenger class? \n",
    "#    does a pattern emerge? which class has the most survivors? which has the least?\n",
    "pd.crosstab(ship[\"pclass\"],ship[\"survived\"],margins=True)"
   ]
  },
  {
   "cell_type": "code",
   "execution_count": 95,
   "id": "93d004ff",
   "metadata": {},
   "outputs": [
    {
     "data": {
      "text/html": [
       "<div>\n",
       "<style scoped>\n",
       "    .dataframe tbody tr th:only-of-type {\n",
       "        vertical-align: middle;\n",
       "    }\n",
       "\n",
       "    .dataframe tbody tr th {\n",
       "        vertical-align: top;\n",
       "    }\n",
       "\n",
       "    .dataframe thead th {\n",
       "        text-align: right;\n",
       "    }\n",
       "</style>\n",
       "<table border=\"1\" class=\"dataframe\">\n",
       "  <thead>\n",
       "    <tr style=\"text-align: right;\">\n",
       "      <th>survived</th>\n",
       "      <th>Did not survive</th>\n",
       "      <th>Survived</th>\n",
       "    </tr>\n",
       "    <tr>\n",
       "      <th>pclass</th>\n",
       "      <th></th>\n",
       "      <th></th>\n",
       "    </tr>\n",
       "  </thead>\n",
       "  <tbody>\n",
       "    <tr>\n",
       "      <th>First Class</th>\n",
       "      <td>0.362676</td>\n",
       "      <td>0.637324</td>\n",
       "    </tr>\n",
       "    <tr>\n",
       "      <th>Second Class</th>\n",
       "      <td>0.559387</td>\n",
       "      <td>0.440613</td>\n",
       "    </tr>\n",
       "    <tr>\n",
       "      <th>Third Class</th>\n",
       "      <td>0.738523</td>\n",
       "      <td>0.261477</td>\n",
       "    </tr>\n",
       "    <tr>\n",
       "      <th>All</th>\n",
       "      <td>0.591778</td>\n",
       "      <td>0.408222</td>\n",
       "    </tr>\n",
       "  </tbody>\n",
       "</table>\n",
       "</div>"
      ],
      "text/plain": [
       "survived      Did not survive  Survived\n",
       "pclass                                 \n",
       "First Class          0.362676  0.637324\n",
       "Second Class         0.559387  0.440613\n",
       "Third Class          0.738523  0.261477\n",
       "All                  0.591778  0.408222"
      ]
     },
     "execution_count": 95,
     "metadata": {},
     "output_type": "execute_result"
    }
   ],
   "source": [
    "#pclass: how many survivors are in each passenger class? \n",
    "#    does a pattern emerge? which class has the most survivors? which has the least?\n",
    "pd.crosstab(ship[\"pclass\"],ship[\"survived\"],normalize = 'index',margins=True)"
   ]
  },
  {
   "cell_type": "code",
   "execution_count": 100,
   "id": "05b6b4a8",
   "metadata": {},
   "outputs": [],
   "source": [
    "#The lower the class, the lower the survivor rate. First class has the most survivors. In percentages, the Third Class\n",
    "# lost the greater number of passengers, while First Class has the highest percentage of survivors."
   ]
  },
  {
   "cell_type": "code",
   "execution_count": 94,
   "id": "0428e2fa",
   "metadata": {},
   "outputs": [
    {
     "data": {
      "text/html": [
       "<div>\n",
       "<style scoped>\n",
       "    .dataframe tbody tr th:only-of-type {\n",
       "        vertical-align: middle;\n",
       "    }\n",
       "\n",
       "    .dataframe tbody tr th {\n",
       "        vertical-align: top;\n",
       "    }\n",
       "\n",
       "    .dataframe thead th {\n",
       "        text-align: right;\n",
       "    }\n",
       "</style>\n",
       "<table border=\"1\" class=\"dataframe\">\n",
       "  <thead>\n",
       "    <tr style=\"text-align: right;\">\n",
       "      <th>survived</th>\n",
       "      <th>Did not survive</th>\n",
       "      <th>Survived</th>\n",
       "      <th>All</th>\n",
       "    </tr>\n",
       "    <tr>\n",
       "      <th>sex</th>\n",
       "      <th></th>\n",
       "      <th></th>\n",
       "      <th></th>\n",
       "    </tr>\n",
       "  </thead>\n",
       "  <tbody>\n",
       "    <tr>\n",
       "      <th>female</th>\n",
       "      <td>96</td>\n",
       "      <td>292</td>\n",
       "      <td>388</td>\n",
       "    </tr>\n",
       "    <tr>\n",
       "      <th>male</th>\n",
       "      <td>523</td>\n",
       "      <td>135</td>\n",
       "      <td>658</td>\n",
       "    </tr>\n",
       "    <tr>\n",
       "      <th>All</th>\n",
       "      <td>619</td>\n",
       "      <td>427</td>\n",
       "      <td>1046</td>\n",
       "    </tr>\n",
       "  </tbody>\n",
       "</table>\n",
       "</div>"
      ],
      "text/plain": [
       "survived  Did not survive  Survived   All\n",
       "sex                                      \n",
       "female                 96       292   388\n",
       "male                  523       135   658\n",
       "All                   619       427  1046"
      ]
     },
     "execution_count": 94,
     "metadata": {},
     "output_type": "execute_result"
    }
   ],
   "source": [
    "#sex: how many survivors are in each variable group? does a pattern emerge? \n",
    "#which group has the most survivors? which has the least?\n",
    "pd.crosstab(ship[\"sex\"],ship[\"survived\"],margins=True)"
   ]
  },
  {
   "cell_type": "code",
   "execution_count": 103,
   "id": "ead458e7",
   "metadata": {},
   "outputs": [
    {
     "data": {
      "text/html": [
       "<div>\n",
       "<style scoped>\n",
       "    .dataframe tbody tr th:only-of-type {\n",
       "        vertical-align: middle;\n",
       "    }\n",
       "\n",
       "    .dataframe tbody tr th {\n",
       "        vertical-align: top;\n",
       "    }\n",
       "\n",
       "    .dataframe thead th {\n",
       "        text-align: right;\n",
       "    }\n",
       "</style>\n",
       "<table border=\"1\" class=\"dataframe\">\n",
       "  <thead>\n",
       "    <tr style=\"text-align: right;\">\n",
       "      <th>survived</th>\n",
       "      <th>Did not survive</th>\n",
       "      <th>Survived</th>\n",
       "    </tr>\n",
       "    <tr>\n",
       "      <th>sex</th>\n",
       "      <th></th>\n",
       "      <th></th>\n",
       "    </tr>\n",
       "  </thead>\n",
       "  <tbody>\n",
       "    <tr>\n",
       "      <th>female</th>\n",
       "      <td>0.247423</td>\n",
       "      <td>0.752577</td>\n",
       "    </tr>\n",
       "    <tr>\n",
       "      <th>male</th>\n",
       "      <td>0.794833</td>\n",
       "      <td>0.205167</td>\n",
       "    </tr>\n",
       "    <tr>\n",
       "      <th>All</th>\n",
       "      <td>0.591778</td>\n",
       "      <td>0.408222</td>\n",
       "    </tr>\n",
       "  </tbody>\n",
       "</table>\n",
       "</div>"
      ],
      "text/plain": [
       "survived  Did not survive  Survived\n",
       "sex                                \n",
       "female           0.247423  0.752577\n",
       "male             0.794833  0.205167\n",
       "All              0.591778  0.408222"
      ]
     },
     "execution_count": 103,
     "metadata": {},
     "output_type": "execute_result"
    }
   ],
   "source": [
    "# pclass: how many survivors are in each passenger class? \n",
    "#    does a pattern emerge? which class has the most survivors? which has the least?\n",
    "pd.crosstab(ship[\"sex\"],ship[\"survived\"],normalize = 'index',margins=True)"
   ]
  },
  {
   "cell_type": "code",
   "execution_count": 101,
   "id": "0838cd6e",
   "metadata": {},
   "outputs": [],
   "source": [
    "##In this case, more males did not survive (by percentage) than females. But the number of males on board was almost\n",
    "## two to one as related to females."
   ]
  },
  {
   "cell_type": "code",
   "execution_count": 99,
   "id": "6351f87b",
   "metadata": {},
   "outputs": [
    {
     "name": "stdout",
     "output_type": "stream",
     "text": [
      " The average age is  29.8811345124283\n"
     ]
    },
    {
     "data": {
      "text/plain": [
       "survived\n",
       "Did not survive    30.545369\n",
       "Survived           28.918228\n",
       "Name: age, dtype: float64"
      ]
     },
     "execution_count": 99,
     "metadata": {},
     "output_type": "execute_result"
    }
   ],
   "source": [
    "#age: how does the average age of the passenger differ based on survival group?\n",
    "print (\" The average age is \", ship[\"age\"].mean())\n",
    "ship[\"age\"].groupby (ship[\"survived\"]).mean()"
   ]
  },
  {
   "cell_type": "code",
   "execution_count": 104,
   "id": "e759e12f",
   "metadata": {},
   "outputs": [],
   "source": [
    "## Average age does not seem to have an impact on survival rate"
   ]
  },
  {
   "cell_type": "code",
   "execution_count": 108,
   "id": "79ca70d6",
   "metadata": {},
   "outputs": [
    {
     "data": {
      "text/html": [
       "<div>\n",
       "<style scoped>\n",
       "    .dataframe tbody tr th:only-of-type {\n",
       "        vertical-align: middle;\n",
       "    }\n",
       "\n",
       "    .dataframe tbody tr th {\n",
       "        vertical-align: top;\n",
       "    }\n",
       "\n",
       "    .dataframe thead th {\n",
       "        text-align: right;\n",
       "    }\n",
       "</style>\n",
       "<table border=\"1\" class=\"dataframe\">\n",
       "  <thead>\n",
       "    <tr style=\"text-align: right;\">\n",
       "      <th>survived</th>\n",
       "      <th>Did not survive</th>\n",
       "      <th>Survived</th>\n",
       "      <th>All</th>\n",
       "    </tr>\n",
       "    <tr>\n",
       "      <th>Age Group</th>\n",
       "      <th></th>\n",
       "      <th></th>\n",
       "      <th></th>\n",
       "    </tr>\n",
       "  </thead>\n",
       "  <tbody>\n",
       "    <tr>\n",
       "      <th>Adult</th>\n",
       "      <td>446</td>\n",
       "      <td>300</td>\n",
       "      <td>746</td>\n",
       "    </tr>\n",
       "    <tr>\n",
       "      <th>Child</th>\n",
       "      <td>35</td>\n",
       "      <td>37</td>\n",
       "      <td>72</td>\n",
       "    </tr>\n",
       "    <tr>\n",
       "      <th>Infant</th>\n",
       "      <td>5</td>\n",
       "      <td>17</td>\n",
       "      <td>22</td>\n",
       "    </tr>\n",
       "    <tr>\n",
       "      <th>Senior</th>\n",
       "      <td>8</td>\n",
       "      <td>2</td>\n",
       "      <td>10</td>\n",
       "    </tr>\n",
       "    <tr>\n",
       "      <th>Teen</th>\n",
       "      <td>125</td>\n",
       "      <td>71</td>\n",
       "      <td>196</td>\n",
       "    </tr>\n",
       "    <tr>\n",
       "      <th>All</th>\n",
       "      <td>619</td>\n",
       "      <td>427</td>\n",
       "      <td>1046</td>\n",
       "    </tr>\n",
       "  </tbody>\n",
       "</table>\n",
       "</div>"
      ],
      "text/plain": [
       "survived   Did not survive  Survived   All\n",
       "Age Group                                 \n",
       "Adult                  446       300   746\n",
       "Child                   35        37    72\n",
       "Infant                   5        17    22\n",
       "Senior                   8         2    10\n",
       "Teen                   125        71   196\n",
       "All                    619       427  1046"
      ]
     },
     "execution_count": 108,
     "metadata": {},
     "output_type": "execute_result"
    }
   ],
   "source": [
    "#age group: how many survivors are in each variable group? does a pattern emerge? which group has the most survivors? \n",
    "#which has the least?\n",
    "pd.crosstab(ship[\"Age Group\"],ship[\"survived\"],margins=True)"
   ]
  },
  {
   "cell_type": "code",
   "execution_count": 106,
   "id": "08d780b7",
   "metadata": {},
   "outputs": [
    {
     "data": {
      "text/html": [
       "<div>\n",
       "<style scoped>\n",
       "    .dataframe tbody tr th:only-of-type {\n",
       "        vertical-align: middle;\n",
       "    }\n",
       "\n",
       "    .dataframe tbody tr th {\n",
       "        vertical-align: top;\n",
       "    }\n",
       "\n",
       "    .dataframe thead th {\n",
       "        text-align: right;\n",
       "    }\n",
       "</style>\n",
       "<table border=\"1\" class=\"dataframe\">\n",
       "  <thead>\n",
       "    <tr style=\"text-align: right;\">\n",
       "      <th>survived</th>\n",
       "      <th>Did not survive</th>\n",
       "      <th>Survived</th>\n",
       "    </tr>\n",
       "    <tr>\n",
       "      <th>Age Group</th>\n",
       "      <th></th>\n",
       "      <th></th>\n",
       "    </tr>\n",
       "  </thead>\n",
       "  <tbody>\n",
       "    <tr>\n",
       "      <th>Adult</th>\n",
       "      <td>0.597855</td>\n",
       "      <td>0.402145</td>\n",
       "    </tr>\n",
       "    <tr>\n",
       "      <th>Child</th>\n",
       "      <td>0.486111</td>\n",
       "      <td>0.513889</td>\n",
       "    </tr>\n",
       "    <tr>\n",
       "      <th>Infant</th>\n",
       "      <td>0.227273</td>\n",
       "      <td>0.772727</td>\n",
       "    </tr>\n",
       "    <tr>\n",
       "      <th>Senior</th>\n",
       "      <td>0.800000</td>\n",
       "      <td>0.200000</td>\n",
       "    </tr>\n",
       "    <tr>\n",
       "      <th>Teen</th>\n",
       "      <td>0.637755</td>\n",
       "      <td>0.362245</td>\n",
       "    </tr>\n",
       "    <tr>\n",
       "      <th>All</th>\n",
       "      <td>0.591778</td>\n",
       "      <td>0.408222</td>\n",
       "    </tr>\n",
       "  </tbody>\n",
       "</table>\n",
       "</div>"
      ],
      "text/plain": [
       "survived   Did not survive  Survived\n",
       "Age Group                           \n",
       "Adult             0.597855  0.402145\n",
       "Child             0.486111  0.513889\n",
       "Infant            0.227273  0.772727\n",
       "Senior            0.800000  0.200000\n",
       "Teen              0.637755  0.362245\n",
       "All               0.591778  0.408222"
      ]
     },
     "execution_count": 106,
     "metadata": {},
     "output_type": "execute_result"
    }
   ],
   "source": [
    "pd.crosstab(ship[\"Age Group\"],ship[\"survived\"],normalize = 'index',margins=True)"
   ]
  },
  {
   "cell_type": "code",
   "execution_count": null,
   "id": "cd019ba6",
   "metadata": {},
   "outputs": [],
   "source": [
    "## Nearly all the seniors did not survive; the younger the better odds of surviving. Certainly there were \n",
    "## fewer younger passengers and they were the first in the lifeboats"
   ]
  },
  {
   "cell_type": "code",
   "execution_count": 109,
   "id": "407ef083",
   "metadata": {},
   "outputs": [
    {
     "data": {
      "text/html": [
       "<div>\n",
       "<style scoped>\n",
       "    .dataframe tbody tr th:only-of-type {\n",
       "        vertical-align: middle;\n",
       "    }\n",
       "\n",
       "    .dataframe tbody tr th {\n",
       "        vertical-align: top;\n",
       "    }\n",
       "\n",
       "    .dataframe thead th {\n",
       "        text-align: right;\n",
       "    }\n",
       "</style>\n",
       "<table border=\"1\" class=\"dataframe\">\n",
       "  <thead>\n",
       "    <tr style=\"text-align: right;\">\n",
       "      <th>survived</th>\n",
       "      <th>Did not survive</th>\n",
       "      <th>Survived</th>\n",
       "      <th>All</th>\n",
       "    </tr>\n",
       "    <tr>\n",
       "      <th>Family Size</th>\n",
       "      <th></th>\n",
       "      <th></th>\n",
       "      <th></th>\n",
       "    </tr>\n",
       "  </thead>\n",
       "  <tbody>\n",
       "    <tr>\n",
       "      <th>0</th>\n",
       "      <td>402</td>\n",
       "      <td>188</td>\n",
       "      <td>590</td>\n",
       "    </tr>\n",
       "    <tr>\n",
       "      <th>1</th>\n",
       "      <td>93</td>\n",
       "      <td>113</td>\n",
       "      <td>206</td>\n",
       "    </tr>\n",
       "    <tr>\n",
       "      <th>2</th>\n",
       "      <td>63</td>\n",
       "      <td>81</td>\n",
       "      <td>144</td>\n",
       "    </tr>\n",
       "    <tr>\n",
       "      <th>3</th>\n",
       "      <td>9</td>\n",
       "      <td>30</td>\n",
       "      <td>39</td>\n",
       "    </tr>\n",
       "    <tr>\n",
       "      <th>4</th>\n",
       "      <td>11</td>\n",
       "      <td>6</td>\n",
       "      <td>17</td>\n",
       "    </tr>\n",
       "    <tr>\n",
       "      <th>5</th>\n",
       "      <td>20</td>\n",
       "      <td>5</td>\n",
       "      <td>25</td>\n",
       "    </tr>\n",
       "    <tr>\n",
       "      <th>6</th>\n",
       "      <td>12</td>\n",
       "      <td>4</td>\n",
       "      <td>16</td>\n",
       "    </tr>\n",
       "    <tr>\n",
       "      <th>7</th>\n",
       "      <td>8</td>\n",
       "      <td>0</td>\n",
       "      <td>8</td>\n",
       "    </tr>\n",
       "    <tr>\n",
       "      <th>10</th>\n",
       "      <td>1</td>\n",
       "      <td>0</td>\n",
       "      <td>1</td>\n",
       "    </tr>\n",
       "    <tr>\n",
       "      <th>All</th>\n",
       "      <td>619</td>\n",
       "      <td>427</td>\n",
       "      <td>1046</td>\n",
       "    </tr>\n",
       "  </tbody>\n",
       "</table>\n",
       "</div>"
      ],
      "text/plain": [
       "survived     Did not survive  Survived   All\n",
       "Family Size                                 \n",
       "0                        402       188   590\n",
       "1                         93       113   206\n",
       "2                         63        81   144\n",
       "3                          9        30    39\n",
       "4                         11         6    17\n",
       "5                         20         5    25\n",
       "6                         12         4    16\n",
       "7                          8         0     8\n",
       "10                         1         0     1\n",
       "All                      619       427  1046"
      ]
     },
     "execution_count": 109,
     "metadata": {},
     "output_type": "execute_result"
    }
   ],
   "source": [
    "#family size: how many survivors are in each variable group? does a pattern emerge? \n",
    "#which group has the most survivors? which has the least?\n",
    "pd.crosstab(ship[\"Family Size\"],ship[\"survived\"],margins=True)"
   ]
  },
  {
   "cell_type": "code",
   "execution_count": 110,
   "id": "e32bdfd2",
   "metadata": {},
   "outputs": [
    {
     "data": {
      "text/html": [
       "<div>\n",
       "<style scoped>\n",
       "    .dataframe tbody tr th:only-of-type {\n",
       "        vertical-align: middle;\n",
       "    }\n",
       "\n",
       "    .dataframe tbody tr th {\n",
       "        vertical-align: top;\n",
       "    }\n",
       "\n",
       "    .dataframe thead th {\n",
       "        text-align: right;\n",
       "    }\n",
       "</style>\n",
       "<table border=\"1\" class=\"dataframe\">\n",
       "  <thead>\n",
       "    <tr style=\"text-align: right;\">\n",
       "      <th>survived</th>\n",
       "      <th>Did not survive</th>\n",
       "      <th>Survived</th>\n",
       "    </tr>\n",
       "    <tr>\n",
       "      <th>Family Size</th>\n",
       "      <th></th>\n",
       "      <th></th>\n",
       "    </tr>\n",
       "  </thead>\n",
       "  <tbody>\n",
       "    <tr>\n",
       "      <th>0</th>\n",
       "      <td>0.681356</td>\n",
       "      <td>0.318644</td>\n",
       "    </tr>\n",
       "    <tr>\n",
       "      <th>1</th>\n",
       "      <td>0.451456</td>\n",
       "      <td>0.548544</td>\n",
       "    </tr>\n",
       "    <tr>\n",
       "      <th>2</th>\n",
       "      <td>0.437500</td>\n",
       "      <td>0.562500</td>\n",
       "    </tr>\n",
       "    <tr>\n",
       "      <th>3</th>\n",
       "      <td>0.230769</td>\n",
       "      <td>0.769231</td>\n",
       "    </tr>\n",
       "    <tr>\n",
       "      <th>4</th>\n",
       "      <td>0.647059</td>\n",
       "      <td>0.352941</td>\n",
       "    </tr>\n",
       "    <tr>\n",
       "      <th>5</th>\n",
       "      <td>0.800000</td>\n",
       "      <td>0.200000</td>\n",
       "    </tr>\n",
       "    <tr>\n",
       "      <th>6</th>\n",
       "      <td>0.750000</td>\n",
       "      <td>0.250000</td>\n",
       "    </tr>\n",
       "    <tr>\n",
       "      <th>7</th>\n",
       "      <td>1.000000</td>\n",
       "      <td>0.000000</td>\n",
       "    </tr>\n",
       "    <tr>\n",
       "      <th>10</th>\n",
       "      <td>1.000000</td>\n",
       "      <td>0.000000</td>\n",
       "    </tr>\n",
       "    <tr>\n",
       "      <th>All</th>\n",
       "      <td>0.591778</td>\n",
       "      <td>0.408222</td>\n",
       "    </tr>\n",
       "  </tbody>\n",
       "</table>\n",
       "</div>"
      ],
      "text/plain": [
       "survived     Did not survive  Survived\n",
       "Family Size                           \n",
       "0                   0.681356  0.318644\n",
       "1                   0.451456  0.548544\n",
       "2                   0.437500  0.562500\n",
       "3                   0.230769  0.769231\n",
       "4                   0.647059  0.352941\n",
       "5                   0.800000  0.200000\n",
       "6                   0.750000  0.250000\n",
       "7                   1.000000  0.000000\n",
       "10                  1.000000  0.000000\n",
       "All                 0.591778  0.408222"
      ]
     },
     "execution_count": 110,
     "metadata": {},
     "output_type": "execute_result"
    }
   ],
   "source": [
    "pd.crosstab(ship[\"Family Size\"],ship[\"survived\"],normalize = 'index',margins=True)"
   ]
  },
  {
   "cell_type": "code",
   "execution_count": null,
   "id": "da1fc467",
   "metadata": {},
   "outputs": [],
   "source": [
    "## The survival rate was highest in families with 3 members(77%) (with 1 or 2 just above 50%)"
   ]
  },
  {
   "cell_type": "code",
   "execution_count": 111,
   "id": "63b14d72",
   "metadata": {},
   "outputs": [
    {
     "data": {
      "text/html": [
       "<div>\n",
       "<style scoped>\n",
       "    .dataframe tbody tr th:only-of-type {\n",
       "        vertical-align: middle;\n",
       "    }\n",
       "\n",
       "    .dataframe tbody tr th {\n",
       "        vertical-align: top;\n",
       "    }\n",
       "\n",
       "    .dataframe thead th {\n",
       "        text-align: right;\n",
       "    }\n",
       "</style>\n",
       "<table border=\"1\" class=\"dataframe\">\n",
       "  <thead>\n",
       "    <tr style=\"text-align: right;\">\n",
       "      <th>survived</th>\n",
       "      <th>Did not survive</th>\n",
       "      <th>Survived</th>\n",
       "      <th>All</th>\n",
       "    </tr>\n",
       "    <tr>\n",
       "      <th>Travel Alone</th>\n",
       "      <th></th>\n",
       "      <th></th>\n",
       "      <th></th>\n",
       "    </tr>\n",
       "  </thead>\n",
       "  <tbody>\n",
       "    <tr>\n",
       "      <th>Not solo</th>\n",
       "      <td>217</td>\n",
       "      <td>239</td>\n",
       "      <td>456</td>\n",
       "    </tr>\n",
       "    <tr>\n",
       "      <th>Solo traveler</th>\n",
       "      <td>402</td>\n",
       "      <td>188</td>\n",
       "      <td>590</td>\n",
       "    </tr>\n",
       "    <tr>\n",
       "      <th>All</th>\n",
       "      <td>619</td>\n",
       "      <td>427</td>\n",
       "      <td>1046</td>\n",
       "    </tr>\n",
       "  </tbody>\n",
       "</table>\n",
       "</div>"
      ],
      "text/plain": [
       "survived       Did not survive  Survived   All\n",
       "Travel Alone                                  \n",
       "Not solo                   217       239   456\n",
       "Solo traveler              402       188   590\n",
       "All                        619       427  1046"
      ]
     },
     "execution_count": 111,
     "metadata": {},
     "output_type": "execute_result"
    }
   ],
   "source": [
    "#travel alone: how many survivors are in each variable group? does a pattern emerge? which group has the most survivors? \n",
    "#which has the least?\n",
    "pd.crosstab(ship[\"Travel Alone\"],ship[\"survived\"],margins=True)"
   ]
  },
  {
   "cell_type": "code",
   "execution_count": 113,
   "id": "d9a04d79",
   "metadata": {},
   "outputs": [
    {
     "data": {
      "text/html": [
       "<div>\n",
       "<style scoped>\n",
       "    .dataframe tbody tr th:only-of-type {\n",
       "        vertical-align: middle;\n",
       "    }\n",
       "\n",
       "    .dataframe tbody tr th {\n",
       "        vertical-align: top;\n",
       "    }\n",
       "\n",
       "    .dataframe thead th {\n",
       "        text-align: right;\n",
       "    }\n",
       "</style>\n",
       "<table border=\"1\" class=\"dataframe\">\n",
       "  <thead>\n",
       "    <tr style=\"text-align: right;\">\n",
       "      <th>survived</th>\n",
       "      <th>Did not survive</th>\n",
       "      <th>Survived</th>\n",
       "    </tr>\n",
       "    <tr>\n",
       "      <th>Travel Alone</th>\n",
       "      <th></th>\n",
       "      <th></th>\n",
       "    </tr>\n",
       "  </thead>\n",
       "  <tbody>\n",
       "    <tr>\n",
       "      <th>Not solo</th>\n",
       "      <td>0.475877</td>\n",
       "      <td>0.524123</td>\n",
       "    </tr>\n",
       "    <tr>\n",
       "      <th>Solo traveler</th>\n",
       "      <td>0.681356</td>\n",
       "      <td>0.318644</td>\n",
       "    </tr>\n",
       "    <tr>\n",
       "      <th>All</th>\n",
       "      <td>0.591778</td>\n",
       "      <td>0.408222</td>\n",
       "    </tr>\n",
       "  </tbody>\n",
       "</table>\n",
       "</div>"
      ],
      "text/plain": [
       "survived       Did not survive  Survived\n",
       "Travel Alone                            \n",
       "Not solo              0.475877  0.524123\n",
       "Solo traveler         0.681356  0.318644\n",
       "All                   0.591778  0.408222"
      ]
     },
     "execution_count": 113,
     "metadata": {},
     "output_type": "execute_result"
    }
   ],
   "source": [
    "pd.crosstab(ship[\"Travel Alone\"],ship[\"survived\"],normalize='index',margins=True)"
   ]
  },
  {
   "cell_type": "code",
   "execution_count": null,
   "id": "644a0f37",
   "metadata": {},
   "outputs": [],
   "source": [
    "## Solo travelers had higher survival rates. Just looking at total numbers is misleading."
   ]
  },
  {
   "cell_type": "code",
   "execution_count": null,
   "id": "e42799d0",
   "metadata": {},
   "outputs": [],
   "source": [
    "#crew: how many survivors are in each variable group? does a pattern emerge? \n",
    "#which group has the most survivors? which has the least?"
   ]
  },
  {
   "cell_type": "code",
   "execution_count": 114,
   "id": "6f7541e0",
   "metadata": {},
   "outputs": [
    {
     "data": {
      "text/html": [
       "<div>\n",
       "<style scoped>\n",
       "    .dataframe tbody tr th:only-of-type {\n",
       "        vertical-align: middle;\n",
       "    }\n",
       "\n",
       "    .dataframe tbody tr th {\n",
       "        vertical-align: top;\n",
       "    }\n",
       "\n",
       "    .dataframe thead th {\n",
       "        text-align: right;\n",
       "    }\n",
       "</style>\n",
       "<table border=\"1\" class=\"dataframe\">\n",
       "  <thead>\n",
       "    <tr style=\"text-align: right;\">\n",
       "      <th>survived</th>\n",
       "      <th>Did not survive</th>\n",
       "      <th>Survived</th>\n",
       "      <th>All</th>\n",
       "    </tr>\n",
       "    <tr>\n",
       "      <th>Crew</th>\n",
       "      <th></th>\n",
       "      <th></th>\n",
       "      <th></th>\n",
       "    </tr>\n",
       "  </thead>\n",
       "  <tbody>\n",
       "    <tr>\n",
       "      <th>0</th>\n",
       "      <td>613</td>\n",
       "      <td>425</td>\n",
       "      <td>1038</td>\n",
       "    </tr>\n",
       "    <tr>\n",
       "      <th>1</th>\n",
       "      <td>6</td>\n",
       "      <td>2</td>\n",
       "      <td>8</td>\n",
       "    </tr>\n",
       "    <tr>\n",
       "      <th>All</th>\n",
       "      <td>619</td>\n",
       "      <td>427</td>\n",
       "      <td>1046</td>\n",
       "    </tr>\n",
       "  </tbody>\n",
       "</table>\n",
       "</div>"
      ],
      "text/plain": [
       "survived  Did not survive  Survived   All\n",
       "Crew                                     \n",
       "0                     613       425  1038\n",
       "1                       6         2     8\n",
       "All                   619       427  1046"
      ]
     },
     "execution_count": 114,
     "metadata": {},
     "output_type": "execute_result"
    }
   ],
   "source": [
    "pd.crosstab(ship[\"Crew\"],ship[\"survived\"],margins=True)"
   ]
  },
  {
   "cell_type": "code",
   "execution_count": null,
   "id": "eb4a39ea",
   "metadata": {},
   "outputs": [],
   "source": [
    "## I ended up with only 8 crew members listed.  I must have deleted too many rows in that category."
   ]
  },
  {
   "cell_type": "code",
   "execution_count": 116,
   "id": "f7f78d5f",
   "metadata": {},
   "outputs": [
    {
     "data": {
      "text/html": [
       "<div>\n",
       "<style scoped>\n",
       "    .dataframe tbody tr th:only-of-type {\n",
       "        vertical-align: middle;\n",
       "    }\n",
       "\n",
       "    .dataframe tbody tr th {\n",
       "        vertical-align: top;\n",
       "    }\n",
       "\n",
       "    .dataframe thead th {\n",
       "        text-align: right;\n",
       "    }\n",
       "</style>\n",
       "<table border=\"1\" class=\"dataframe\">\n",
       "  <thead>\n",
       "    <tr style=\"text-align: right;\">\n",
       "      <th>survived</th>\n",
       "      <th>Did not survive</th>\n",
       "      <th>Survived</th>\n",
       "      <th>All</th>\n",
       "    </tr>\n",
       "    <tr>\n",
       "      <th>Has Caregiver</th>\n",
       "      <th></th>\n",
       "      <th></th>\n",
       "      <th></th>\n",
       "    </tr>\n",
       "  </thead>\n",
       "  <tbody>\n",
       "    <tr>\n",
       "      <th>Caregiver</th>\n",
       "      <td>18</td>\n",
       "      <td>22</td>\n",
       "      <td>40</td>\n",
       "    </tr>\n",
       "    <tr>\n",
       "      <th>No Caregiver</th>\n",
       "      <td>601</td>\n",
       "      <td>405</td>\n",
       "      <td>1006</td>\n",
       "    </tr>\n",
       "    <tr>\n",
       "      <th>All</th>\n",
       "      <td>619</td>\n",
       "      <td>427</td>\n",
       "      <td>1046</td>\n",
       "    </tr>\n",
       "  </tbody>\n",
       "</table>\n",
       "</div>"
      ],
      "text/plain": [
       "survived       Did not survive  Survived   All\n",
       "Has Caregiver                                 \n",
       "Caregiver                   18        22    40\n",
       "No Caregiver               601       405  1006\n",
       "All                        619       427  1046"
      ]
     },
     "execution_count": 116,
     "metadata": {},
     "output_type": "execute_result"
    }
   ],
   "source": [
    "#has caregiver: how many survivors are in each variable group? does a pattern emerge? \n",
    "#which group has the most survivors? which has the least?\n",
    "pd.crosstab(ship[\"Has Caregiver\"],ship[\"survived\"],margins=True)"
   ]
  },
  {
   "cell_type": "code",
   "execution_count": 119,
   "id": "d8dcea57",
   "metadata": {},
   "outputs": [
    {
     "data": {
      "text/html": [
       "<div>\n",
       "<style scoped>\n",
       "    .dataframe tbody tr th:only-of-type {\n",
       "        vertical-align: middle;\n",
       "    }\n",
       "\n",
       "    .dataframe tbody tr th {\n",
       "        vertical-align: top;\n",
       "    }\n",
       "\n",
       "    .dataframe thead th {\n",
       "        text-align: right;\n",
       "    }\n",
       "</style>\n",
       "<table border=\"1\" class=\"dataframe\">\n",
       "  <thead>\n",
       "    <tr style=\"text-align: right;\">\n",
       "      <th>survived</th>\n",
       "      <th>Did not survive</th>\n",
       "      <th>Survived</th>\n",
       "    </tr>\n",
       "    <tr>\n",
       "      <th>Has Caregiver</th>\n",
       "      <th></th>\n",
       "      <th></th>\n",
       "    </tr>\n",
       "  </thead>\n",
       "  <tbody>\n",
       "    <tr>\n",
       "      <th>Caregiver</th>\n",
       "      <td>0.450000</td>\n",
       "      <td>0.550000</td>\n",
       "    </tr>\n",
       "    <tr>\n",
       "      <th>No Caregiver</th>\n",
       "      <td>0.597416</td>\n",
       "      <td>0.402584</td>\n",
       "    </tr>\n",
       "    <tr>\n",
       "      <th>All</th>\n",
       "      <td>0.591778</td>\n",
       "      <td>0.408222</td>\n",
       "    </tr>\n",
       "  </tbody>\n",
       "</table>\n",
       "</div>"
      ],
      "text/plain": [
       "survived       Did not survive  Survived\n",
       "Has Caregiver                           \n",
       "Caregiver             0.450000  0.550000\n",
       "No Caregiver          0.597416  0.402584\n",
       "All                   0.591778  0.408222"
      ]
     },
     "execution_count": 119,
     "metadata": {},
     "output_type": "execute_result"
    }
   ],
   "source": [
    "pd.crosstab(ship[\"Has Caregiver\"],ship[\"survived\"],normalize = 'index',margins=True)"
   ]
  },
  {
   "cell_type": "code",
   "execution_count": null,
   "id": "2c139fc8",
   "metadata": {},
   "outputs": [],
   "source": [
    "##Those with a caregiver had better survival rates than those without. Unaccompanied children fared worse than others."
   ]
  },
  {
   "cell_type": "code",
   "execution_count": 120,
   "id": "9c231b88",
   "metadata": {},
   "outputs": [
    {
     "name": "stdout",
     "output_type": "stream",
     "text": [
      " The average fare is  36.68283879472418\n"
     ]
    },
    {
     "data": {
      "text/plain": [
       "survived\n",
       "Did not survive    25.161913\n",
       "Survived           53.384134\n",
       "Name: fare, dtype: float64"
      ]
     },
     "execution_count": 120,
     "metadata": {},
     "output_type": "execute_result"
    }
   ],
   "source": [
    "#fare: how does the average fare the passenger paid differ based on survival group?\n",
    "print (\" The average fare is \", ship[\"fare\"].mean())\n",
    "ship[\"fare\"].groupby (ship[\"survived\"]).mean()"
   ]
  },
  {
   "cell_type": "code",
   "execution_count": null,
   "id": "d9b1718a",
   "metadata": {},
   "outputs": [],
   "source": [
    "## Those who paid a fare above the average had a better survival rate; these, of course, were the First Class passengers"
   ]
  },
  {
   "cell_type": "code",
   "execution_count": 122,
   "id": "41a6dd3c",
   "metadata": {},
   "outputs": [
    {
     "data": {
      "text/html": [
       "<div>\n",
       "<style scoped>\n",
       "    .dataframe tbody tr th:only-of-type {\n",
       "        vertical-align: middle;\n",
       "    }\n",
       "\n",
       "    .dataframe tbody tr th {\n",
       "        vertical-align: top;\n",
       "    }\n",
       "\n",
       "    .dataframe thead th {\n",
       "        text-align: right;\n",
       "    }\n",
       "</style>\n",
       "<table border=\"1\" class=\"dataframe\">\n",
       "  <thead>\n",
       "    <tr style=\"text-align: right;\">\n",
       "      <th>survived</th>\n",
       "      <th>Did not survive</th>\n",
       "      <th>Survived</th>\n",
       "      <th>All</th>\n",
       "    </tr>\n",
       "    <tr>\n",
       "      <th>embarked</th>\n",
       "      <th></th>\n",
       "      <th></th>\n",
       "      <th></th>\n",
       "    </tr>\n",
       "  </thead>\n",
       "  <tbody>\n",
       "    <tr>\n",
       "      <th>Cherbourg</th>\n",
       "      <td>80</td>\n",
       "      <td>132</td>\n",
       "      <td>212</td>\n",
       "    </tr>\n",
       "    <tr>\n",
       "      <th>Queenstown</th>\n",
       "      <td>37</td>\n",
       "      <td>13</td>\n",
       "      <td>50</td>\n",
       "    </tr>\n",
       "    <tr>\n",
       "      <th>Southampton</th>\n",
       "      <td>502</td>\n",
       "      <td>282</td>\n",
       "      <td>784</td>\n",
       "    </tr>\n",
       "    <tr>\n",
       "      <th>All</th>\n",
       "      <td>619</td>\n",
       "      <td>427</td>\n",
       "      <td>1046</td>\n",
       "    </tr>\n",
       "  </tbody>\n",
       "</table>\n",
       "</div>"
      ],
      "text/plain": [
       "survived     Did not survive  Survived   All\n",
       "embarked                                    \n",
       "Cherbourg                 80       132   212\n",
       "Queenstown                37        13    50\n",
       "Southampton              502       282   784\n",
       "All                      619       427  1046"
      ]
     },
     "execution_count": 122,
     "metadata": {},
     "output_type": "execute_result"
    }
   ],
   "source": [
    "#embarked: how many survivors are in each variable group? does a pattern emerge? \n",
    "#which group has the most survivors? which has the least?\n",
    "pd.crosstab(ship[\"embarked\"],ship[\"survived\"],margins=True)"
   ]
  },
  {
   "cell_type": "code",
   "execution_count": 123,
   "id": "8a86908b",
   "metadata": {},
   "outputs": [
    {
     "data": {
      "text/html": [
       "<div>\n",
       "<style scoped>\n",
       "    .dataframe tbody tr th:only-of-type {\n",
       "        vertical-align: middle;\n",
       "    }\n",
       "\n",
       "    .dataframe tbody tr th {\n",
       "        vertical-align: top;\n",
       "    }\n",
       "\n",
       "    .dataframe thead th {\n",
       "        text-align: right;\n",
       "    }\n",
       "</style>\n",
       "<table border=\"1\" class=\"dataframe\">\n",
       "  <thead>\n",
       "    <tr style=\"text-align: right;\">\n",
       "      <th>survived</th>\n",
       "      <th>Did not survive</th>\n",
       "      <th>Survived</th>\n",
       "    </tr>\n",
       "    <tr>\n",
       "      <th>embarked</th>\n",
       "      <th></th>\n",
       "      <th></th>\n",
       "    </tr>\n",
       "  </thead>\n",
       "  <tbody>\n",
       "    <tr>\n",
       "      <th>Cherbourg</th>\n",
       "      <td>0.377358</td>\n",
       "      <td>0.622642</td>\n",
       "    </tr>\n",
       "    <tr>\n",
       "      <th>Queenstown</th>\n",
       "      <td>0.740000</td>\n",
       "      <td>0.260000</td>\n",
       "    </tr>\n",
       "    <tr>\n",
       "      <th>Southampton</th>\n",
       "      <td>0.640306</td>\n",
       "      <td>0.359694</td>\n",
       "    </tr>\n",
       "    <tr>\n",
       "      <th>All</th>\n",
       "      <td>0.591778</td>\n",
       "      <td>0.408222</td>\n",
       "    </tr>\n",
       "  </tbody>\n",
       "</table>\n",
       "</div>"
      ],
      "text/plain": [
       "survived     Did not survive  Survived\n",
       "embarked                              \n",
       "Cherbourg           0.377358  0.622642\n",
       "Queenstown          0.740000  0.260000\n",
       "Southampton         0.640306  0.359694\n",
       "All                 0.591778  0.408222"
      ]
     },
     "execution_count": 123,
     "metadata": {},
     "output_type": "execute_result"
    }
   ],
   "source": [
    "pd.crosstab(ship[\"embarked\"],ship[\"survived\"],normalize = 'index',margins=True)"
   ]
  },
  {
   "cell_type": "code",
   "execution_count": null,
   "id": "63dce0c4",
   "metadata": {},
   "outputs": [],
   "source": [
    "## Again, by percentages, those who boarded in Cherbourg had the highest survival rate, Queenstown the lowest."
   ]
  },
  {
   "cell_type": "markdown",
   "id": "43e999a3",
   "metadata": {},
   "source": [
    "### Visualize your Results\n",
    "\n",
    "* Using the most interesting (from your POV) results from the above section, create (3) visualizations to illustrate the results. \n",
    "* Create a barplot to show the variation in average age across passenger class. On average, which passenger class has the oldest passengers?\n",
    "* Create a violin plot to show the distribution of age across passenger class. "
   ]
  },
  {
   "cell_type": "code",
   "execution_count": 126,
   "id": "ff9db888",
   "metadata": {},
   "outputs": [
    {
     "data": {
      "text/plain": [
       "<AxesSubplot:xlabel='pclass', ylabel='Count'>"
      ]
     },
     "execution_count": 126,
     "metadata": {},
     "output_type": "execute_result"
    },
    {
     "data": {
      "image/png": "[encoded data removed]",
      "text/plain": [
       "<Figure size 432x288 with 1 Axes>"
      ]
     },
     "metadata": {
      "needs_background": "light"
     },
     "output_type": "display_data"
    }
   ],
   "source": [
    "sns.histplot(ship[\"pclass\"],kde = False)"
   ]
  },
  {
   "cell_type": "code",
   "execution_count": 129,
   "id": "2b21e07f",
   "metadata": {},
   "outputs": [
    {
     "data": {
      "text/plain": [
       "<AxesSubplot:xlabel='Age Group', ylabel='Count'>"
      ]
     },
     "execution_count": 129,
     "metadata": {},
     "output_type": "execute_result"
    },
    {
     "data": {
      "image/png": "[encoded data removed]",
      "text/plain": [
       "<Figure size 432x288 with 1 Axes>"
      ]
     },
     "metadata": {
      "needs_background": "light"
     },
     "output_type": "display_data"
    }
   ],
   "source": [
    "sns.histplot(ship[\"Age Group\"],kde = True)"
   ]
  },
  {
   "cell_type": "code",
   "execution_count": 180,
   "id": "df7a2342",
   "metadata": {},
   "outputs": [
    {
     "data": {
      "image/png": "[encoded data removed]",
      "text/plain": [
       "<Figure size 432x288 with 1 Axes>"
      ]
     },
     "metadata": {
      "needs_background": "light"
     },
     "output_type": "display_data"
    }
   ],
   "source": [
    "sns.violinplot(x = ship[\"age\"], y = ship[\"pclass\"])\n",
    "plt.show()"
   ]
  }
 ],
 "metadata": {
  "kernelspec": {
   "display_name": "Python 3",
   "language": "python",
   "name": "python3"
  },
  "language_info": {
   "codemirror_mode": {
    "name": "ipython",
    "version": 3
   },
   "file_extension": ".py",
   "mimetype": "text/x-python",
   "name": "python",
   "nbconvert_exporter": "python",
   "pygments_lexer": "ipython3",
   "version": "3.8.8"
  }
 },
 "nbformat": 4,
 "nbformat_minor": 5
}
